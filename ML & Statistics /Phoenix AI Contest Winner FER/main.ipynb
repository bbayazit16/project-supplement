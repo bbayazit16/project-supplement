{
  "cells": [
    {
      "cell_type": "markdown",
      "metadata": {
        "id": "v_aceY_PpC66"
      },
      "source": [
        "# Libraries Used\n",
        "\n",
        "- Keras\n",
        "- Numpy\n",
        "- Train Test Split, Shuffle, Confusion Matrix from SKLEARN,\n",
        "- MatPlotLib for visualization,\n",
        "- Seaborn for background and confusion matrix visualization,\n",
        "- Pandas dataframes for confusion matrix,\n",
        "- CV2 to read images,\n",
        "- TQDM For proccess visualization,\n",
        "- Drive mount from Google Colab\n",
        "- OS to loop through folders"
      ]
    },
    {
      "cell_type": "code",
      "execution_count": 50,
      "metadata": {
        "id": "aDAfIb4HFWTr"
      },
      "outputs": [],
      "source": [
        "from sklearn.model_selection import train_test_split\n",
        "from sklearn.metrics import confusion_matrix\n",
        "from matplotlib import pyplot as plt\n",
        "from sklearn.utils import shuffle\n",
        "from google.colab import drive\n",
        "from tensorflow import keras\n",
        "from tqdm import tqdm\n",
        "import seaborn as sns\n",
        "import pandas as pd\n",
        "import numpy as np\n",
        "import cv2\n",
        "import os\n",
        "\n",
        "%matplotlib inline"
      ]
    },
    {
      "cell_type": "markdown",
      "metadata": {
        "id": "K9VDwyvmpIhM"
      },
      "source": [
        "# Reading Images\n",
        "1. Mount HackathonDataset from Google Drive\n",
        "2. Loop through each folder"
      ]
    },
    {
      "cell_type": "code",
      "execution_count": 3,
      "metadata": {
        "colab": {
          "base_uri": "https://localhost:8080/"
        },
        "id": "ezT1mMkJGGK9",
        "outputId": "c88b7fdd-244f-4af8-eaf8-b3514b3c49b6"
      },
      "outputs": [
        {
          "name": "stdout",
          "output_type": "stream",
          "text": [
            "Mounted at /content/drive/\n"
          ]
        }
      ],
      "source": [
        "drive.mount(\"/content/drive/\")\n",
        "dir = \"/content/drive/MyDrive/HackathonDataset\""
      ]
    },
    {
      "cell_type": "code",
      "execution_count": 4,
      "metadata": {
        "id": "ZJ4lpWtzT3n9"
      },
      "outputs": [],
      "source": [
        "# @return x_train, y_train\n",
        "def load_data():\n",
        "  images, labels, errors, names, j, bar = [], [], [], {}, 0, tqdm(total=21065, position=0)\n",
        "  for label in os.listdir(dir):\n",
        "    if os.path.isdir(os.path.join(dir, label)):\n",
        "      for img in os.listdir(os.path.join(dir, label)):\n",
        "        try:\n",
        "          image = cv2.imread(os.path.join(dir, label, img), 0) # grayscale mode\n",
        "          # image = cv2.resize(image, (28, 28)) # 48x48 -> 28x28\n",
        "          images.append(image)\n",
        "          labels.append(j)\n",
        "        except:\n",
        "          errors.append(img)\n",
        "        bar.update(1)\n",
        "      names[j] = f\"{label}\"\n",
        "      j += 1\n",
        "      \n",
        "  bar.close()\n",
        "  print()\n",
        "  for err in errors:\n",
        "    print(f\"Error: {err}\")\n",
        "  for k, v in names.items():\n",
        "    print(f\"{k}: {v}\")\n",
        "\n",
        "  return np.array(images), np.array(labels)"
      ]
    },
    {
      "cell_type": "markdown",
      "metadata": {
        "id": "TRPF57PIpQxs"
      },
      "source": [
        "# Preprocessing\n",
        "\n",
        "1. Reshape x_train as (len, 48*48) (flatten images)\n",
        "2. Divide every value by 255\n",
        "4. Split data into train, test, and validation (90%, 5%, 5%)\n",
        "5. Reshape images into 4D (len, 48, 48, 1) for convolutions\n",
        "6. Shuffle images and labels\n",
        "- @return x_train, x_test, x_val, y_train, y_test, y_val"
      ]
    },
    {
      "cell_type": "code",
      "execution_count": 5,
      "metadata": {
        "id": "5ZkM7aEVpk3m"
      },
      "outputs": [],
      "source": [
        "def preprocess(x_train, y_train):\n",
        "  # scaler = MinMaxScaler()\n",
        "  x_train = x_train.reshape(x_train.shape[0], 48 ** 2)\n",
        "  y_train = keras.utils.to_categorical(y_train, num_classes=4)\n",
        "  # x_train = scaler.fit_transform(x_train)\n",
        "  x_train = x_train / 255\n",
        "  x_train, x_test, y_train, y_test = train_test_split(x_train, y_train, test_size=0.1)\n",
        "  x_test, x_val, y_test, y_val = train_test_split(x_test, y_test, test_size=0.5)\n",
        "  # x_train, y_train = SMOTE().fit_resample(x_train, y_train)\n",
        "  x_train = x_train.reshape(x_train.shape[0], 48, 48, 1)\n",
        "  x_test = x_test.reshape(x_test.shape[0], 48, 48, 1)\n",
        "  x_val = x_val.reshape(x_val.shape[0], 48, 48, 1)\n",
        "  x_train, y_train = shuffle(x_train, y_train)\n",
        "  x_test, y_test = shuffle(x_test, y_test)\n",
        "  x_val, y_val = shuffle(x_val, y_val)\n",
        "  return x_train, x_test, x_val, y_train, y_test, y_val"
      ]
    },
    {
      "cell_type": "markdown",
      "metadata": {
        "id": "rQU24F3PpUxa"
      },
      "source": [
        "# Model Building"
      ]
    },
    {
      "cell_type": "code",
      "execution_count": 6,
      "metadata": {
        "id": "K97jCJz3-ckX"
      },
      "outputs": [],
      "source": [
        "def get_model():\n",
        "  model = keras.Sequential([\n",
        "                            keras.layers.InputLayer(input_shape=(48, 48, 1)),\n",
        "                            keras.layers.Conv2D(64, (5, 5), padding='same', kernel_initializer='he_normal'),\n",
        "                            keras.layers.MaxPool2D((2, 2), padding='same'),\n",
        "                            keras.layers.Activation('relu'),\n",
        "                            keras.layers.BatchNormalization(),\n",
        "                            keras.layers.Dropout(0.35),\n",
        "\n",
        "                            keras.layers.Conv2D(64, (5, 5), padding='same', kernel_initializer='he_normal'),\n",
        "                            keras.layers.MaxPool2D((2, 2), padding='same'),\n",
        "                            keras.layers.Activation('relu'),\n",
        "                            keras.layers.BatchNormalization(),\n",
        "                            keras.layers.Dropout(0.35),\n",
        "\n",
        "                            keras.layers.Conv2D(128, (3, 3), padding='same', kernel_initializer='he_normal'),\n",
        "                            keras.layers.MaxPool2D((2, 2), padding='same'),\n",
        "                            keras.layers.Activation('relu'),\n",
        "                            keras.layers.BatchNormalization(),\n",
        "                            keras.layers.Dropout(0.35),\n",
        "\n",
        "                            keras.layers.Conv2D(128, (3, 3), padding='same', kernel_initializer='he_normal'),\n",
        "                            keras.layers.Activation('relu'),\n",
        "                            keras.layers.BatchNormalization(),\n",
        "                            keras.layers.Dropout(0.35),\n",
        "\n",
        "                            keras.layers.Flatten(),\n",
        "\n",
        "                            keras.layers.Dense(128, kernel_initializer='he_normal'),\n",
        "                            keras.layers.Activation('relu'),\n",
        "                            keras.layers.BatchNormalization(),\n",
        "                            keras.layers.Dropout(0.35),\n",
        "\n",
        "                            keras.layers.Dense(128, kernel_initializer='he_normal'),\n",
        "                            keras.layers.Activation('relu'),\n",
        "                            keras.layers.BatchNormalization(),\n",
        "                            keras.layers.Dropout(0.35),\n",
        "\n",
        "                            keras.layers.Dense(4),\n",
        "                            keras.layers.Activation('softmax')\n",
        "  ])\n",
        "\n",
        "  model.compile(\n",
        "      optimizer = 'adam',\n",
        "      loss = 'categorical_crossentropy',\n",
        "      metrics = ['accuracy']\n",
        "    )\n",
        " \n",
        "  return model"
      ]
    },
    {
      "cell_type": "markdown",
      "metadata": {
        "id": "Xe3y-lk2poF8"
      },
      "source": [
        "# Callbacks"
      ]
    },
    {
      "cell_type": "code",
      "execution_count": 7,
      "metadata": {
        "id": "2CwlIeD5k0Qp"
      },
      "outputs": [],
      "source": [
        "def get_callbacks():\n",
        "\n",
        "  def decay(epoch):\n",
        "\n",
        "    initial_lr = 0.1\n",
        "\n",
        "    def exp_decay(x):\n",
        "      return initial_lr * np.exp(-0.1 * x)\n",
        "\n",
        "    def step_decay(x):\n",
        "      start = exp_decay(5)\n",
        "      k = 0.5\n",
        "      epoch_k = 10\n",
        "      return start * (k ** np.floor((x + 1) / epoch_k))\n",
        "    \n",
        "    if epoch <= 5:\n",
        "      return exp_decay(epoch)\n",
        "    elif epoch < 100:\n",
        "      return step_decay(epoch)\n",
        "    return 0.0125 / epoch\n",
        "\n",
        "  optimization_manager = keras.callbacks.LearningRateScheduler(decay)\n",
        "  # checkpoint_manager = keras.callbacks.ModelCheckpoint(\n",
        "      # \"model.h5\",\n",
        "      # monitor='val_loss',\n",
        "      # verbose=0,\n",
        "      # save_best_only=True,\n",
        "      # )\n",
        "\n",
        "  return [optimization_manager]"
      ]
    },
    {
      "cell_type": "markdown",
      "metadata": {
        "id": "xuNdwxBFptTg"
      },
      "source": [
        "# Training"
      ]
    },
    {
      "cell_type": "code",
      "execution_count": 8,
      "metadata": {
        "colab": {
          "base_uri": "https://localhost:8080/"
        },
        "id": "z30LHKRSBaUY",
        "outputId": "5b176a46-3710-4ed8-8ee7-a7d0c46ef2b2"
      },
      "outputs": [
        {
          "name": "stderr",
          "output_type": "stream",
          "text": [
            "100%|██████████| 21065/21065 [08:23<00:00, 41.80it/s] \n"
          ]
        },
        {
          "name": "stdout",
          "output_type": "stream",
          "text": [
            "\n",
            "0: angry\n",
            "1: happy\n",
            "2: neutral\n",
            "3: sad\n"
          ]
        }
      ],
      "source": [
        "x_train, x_test, x_val, y_train, y_test, y_val = preprocess(*load_data())"
      ]
    },
    {
      "cell_type": "code",
      "execution_count": 9,
      "metadata": {
        "colab": {
          "base_uri": "https://localhost:8080/"
        },
        "id": "VYibEhvuk3i4",
        "outputId": "a21daff1-d042-4bda-fbd1-3ac4ee6009f4"
      },
      "outputs": [
        {
          "name": "stdout",
          "output_type": "stream",
          "text": [
            "Model: \"sequential\"\n",
            "_________________________________________________________________\n",
            " Layer (type)                Output Shape              Param #   \n",
            "=================================================================\n",
            " conv2d (Conv2D)             (None, 48, 48, 64)        1664      \n",
            "                                                                 \n",
            " max_pooling2d (MaxPooling2D  (None, 24, 24, 64)       0         \n",
            " )                                                               \n",
            "                                                                 \n",
            " activation (Activation)     (None, 24, 24, 64)        0         \n",
            "                                                                 \n",
            " batch_normalization (BatchN  (None, 24, 24, 64)       256       \n",
            " ormalization)                                                   \n",
            "                                                                 \n",
            " dropout (Dropout)           (None, 24, 24, 64)        0         \n",
            "                                                                 \n",
            " conv2d_1 (Conv2D)           (None, 24, 24, 64)        102464    \n",
            "                                                                 \n",
            " max_pooling2d_1 (MaxPooling  (None, 12, 12, 64)       0         \n",
            " 2D)                                                             \n",
            "                                                                 \n",
            " activation_1 (Activation)   (None, 12, 12, 64)        0         \n",
            "                                                                 \n",
            " batch_normalization_1 (Batc  (None, 12, 12, 64)       256       \n",
            " hNormalization)                                                 \n",
            "                                                                 \n",
            " dropout_1 (Dropout)         (None, 12, 12, 64)        0         \n",
            "                                                                 \n",
            " conv2d_2 (Conv2D)           (None, 12, 12, 128)       73856     \n",
            "                                                                 \n",
            " max_pooling2d_2 (MaxPooling  (None, 6, 6, 128)        0         \n",
            " 2D)                                                             \n",
            "                                                                 \n",
            " activation_2 (Activation)   (None, 6, 6, 128)         0         \n",
            "                                                                 \n",
            " batch_normalization_2 (Batc  (None, 6, 6, 128)        512       \n",
            " hNormalization)                                                 \n",
            "                                                                 \n",
            " dropout_2 (Dropout)         (None, 6, 6, 128)         0         \n",
            "                                                                 \n",
            " conv2d_3 (Conv2D)           (None, 6, 6, 128)         147584    \n",
            "                                                                 \n",
            " activation_3 (Activation)   (None, 6, 6, 128)         0         \n",
            "                                                                 \n",
            " batch_normalization_3 (Batc  (None, 6, 6, 128)        512       \n",
            " hNormalization)                                                 \n",
            "                                                                 \n",
            " dropout_3 (Dropout)         (None, 6, 6, 128)         0         \n",
            "                                                                 \n",
            " flatten (Flatten)           (None, 4608)              0         \n",
            "                                                                 \n",
            " dense (Dense)               (None, 128)               589952    \n",
            "                                                                 \n",
            " activation_4 (Activation)   (None, 128)               0         \n",
            "                                                                 \n",
            " batch_normalization_4 (Batc  (None, 128)              512       \n",
            " hNormalization)                                                 \n",
            "                                                                 \n",
            " dropout_4 (Dropout)         (None, 128)               0         \n",
            "                                                                 \n",
            " dense_1 (Dense)             (None, 128)               16512     \n",
            "                                                                 \n",
            " activation_5 (Activation)   (None, 128)               0         \n",
            "                                                                 \n",
            " batch_normalization_5 (Batc  (None, 128)              512       \n",
            " hNormalization)                                                 \n",
            "                                                                 \n",
            " dropout_5 (Dropout)         (None, 128)               0         \n",
            "                                                                 \n",
            " dense_2 (Dense)             (None, 4)                 516       \n",
            "                                                                 \n",
            " activation_6 (Activation)   (None, 4)                 0         \n",
            "                                                                 \n",
            "=================================================================\n",
            "Total params: 935,108\n",
            "Trainable params: 933,828\n",
            "Non-trainable params: 1,280\n",
            "_________________________________________________________________\n"
          ]
        }
      ],
      "source": [
        "model = get_model()\n",
        "model.summary()"
      ]
    },
    {
      "cell_type": "code",
      "execution_count": 10,
      "metadata": {
        "colab": {
          "base_uri": "https://localhost:8080/"
        },
        "id": "MlHeT9pSKb3q",
        "outputId": "24c40b87-81ef-4be4-fc03-e1e6aff561f3"
      },
      "outputs": [
        {
          "name": "stdout",
          "output_type": "stream",
          "text": [
            "Epoch 1/100\n",
            "593/593 [==============================] - 24s 19ms/step - loss: 1.5571 - accuracy: 0.2915 - val_loss: 1.7721 - val_accuracy: 0.3529 - lr: 0.1000\n",
            "Epoch 2/100\n",
            "593/593 [==============================] - 11s 18ms/step - loss: 1.4790 - accuracy: 0.3006 - val_loss: 1.3856 - val_accuracy: 0.3463 - lr: 0.0905\n",
            "Epoch 3/100\n",
            "593/593 [==============================] - 11s 18ms/step - loss: 1.4823 - accuracy: 0.2981 - val_loss: 2.0540 - val_accuracy: 0.3074 - lr: 0.0819\n",
            "Epoch 4/100\n",
            "593/593 [==============================] - 10s 18ms/step - loss: 1.4430 - accuracy: 0.3038 - val_loss: 1.4260 - val_accuracy: 0.2097 - lr: 0.0741\n",
            "Epoch 5/100\n",
            "593/593 [==============================] - 11s 18ms/step - loss: 1.4248 - accuracy: 0.3086 - val_loss: 1.5262 - val_accuracy: 0.3615 - lr: 0.0670\n",
            "Epoch 6/100\n",
            "593/593 [==============================] - 11s 18ms/step - loss: 1.4305 - accuracy: 0.3044 - val_loss: 1.4161 - val_accuracy: 0.3055 - lr: 0.0607\n",
            "Epoch 7/100\n",
            "593/593 [==============================] - 11s 18ms/step - loss: 1.4317 - accuracy: 0.3043 - val_loss: 1.4026 - val_accuracy: 0.3387 - lr: 0.0607\n",
            "Epoch 8/100\n",
            "593/593 [==============================] - 11s 18ms/step - loss: 1.4251 - accuracy: 0.3111 - val_loss: 1.4083 - val_accuracy: 0.2941 - lr: 0.0607\n",
            "Epoch 9/100\n",
            "593/593 [==============================] - 11s 18ms/step - loss: 1.4231 - accuracy: 0.3100 - val_loss: 1.3738 - val_accuracy: 0.3159 - lr: 0.0607\n",
            "Epoch 10/100\n",
            "593/593 [==============================] - 11s 18ms/step - loss: 1.3628 - accuracy: 0.3368 - val_loss: 1.3317 - val_accuracy: 0.3605 - lr: 0.0303\n",
            "Epoch 11/100\n",
            "593/593 [==============================] - 11s 18ms/step - loss: 1.3553 - accuracy: 0.3508 - val_loss: 1.4088 - val_accuracy: 0.3710 - lr: 0.0303\n",
            "Epoch 12/100\n",
            "593/593 [==============================] - 11s 18ms/step - loss: 1.3365 - accuracy: 0.3693 - val_loss: 6.4035 - val_accuracy: 0.3824 - lr: 0.0303\n",
            "Epoch 13/100\n",
            "593/593 [==============================] - 11s 19ms/step - loss: 1.3412 - accuracy: 0.3688 - val_loss: 1.3099 - val_accuracy: 0.3890 - lr: 0.0303\n",
            "Epoch 14/100\n",
            "593/593 [==============================] - 11s 18ms/step - loss: 1.3264 - accuracy: 0.3835 - val_loss: 1.3326 - val_accuracy: 0.3843 - lr: 0.0303\n",
            "Epoch 15/100\n",
            "593/593 [==============================] - 11s 18ms/step - loss: 1.2869 - accuracy: 0.4103 - val_loss: 15.5693 - val_accuracy: 0.4127 - lr: 0.0303\n",
            "Epoch 16/100\n",
            "593/593 [==============================] - 11s 18ms/step - loss: 1.2543 - accuracy: 0.4311 - val_loss: 1.2600 - val_accuracy: 0.4440 - lr: 0.0303\n",
            "Epoch 17/100\n",
            "593/593 [==============================] - 11s 18ms/step - loss: 1.2224 - accuracy: 0.4497 - val_loss: 1.1881 - val_accuracy: 0.4763 - lr: 0.0303\n",
            "Epoch 18/100\n",
            "593/593 [==============================] - 11s 18ms/step - loss: 1.2115 - accuracy: 0.4551 - val_loss: 1.1334 - val_accuracy: 0.5057 - lr: 0.0303\n",
            "Epoch 19/100\n",
            "593/593 [==============================] - 11s 18ms/step - loss: 1.2062 - accuracy: 0.4553 - val_loss: 12.2010 - val_accuracy: 0.5161 - lr: 0.0303\n",
            "Epoch 20/100\n",
            "593/593 [==============================] - 11s 18ms/step - loss: 1.1237 - accuracy: 0.5005 - val_loss: 1.0799 - val_accuracy: 0.5541 - lr: 0.0152\n",
            "Epoch 21/100\n",
            "593/593 [==============================] - 11s 19ms/step - loss: 1.1015 - accuracy: 0.5173 - val_loss: 11.8718 - val_accuracy: 0.5626 - lr: 0.0152\n",
            "Epoch 22/100\n",
            "593/593 [==============================] - 11s 18ms/step - loss: 1.0817 - accuracy: 0.5321 - val_loss: 1.0358 - val_accuracy: 0.5474 - lr: 0.0152\n",
            "Epoch 23/100\n",
            "593/593 [==============================] - 11s 18ms/step - loss: 1.1389 - accuracy: 0.5015 - val_loss: 1.7927 - val_accuracy: 0.5351 - lr: 0.0152\n",
            "Epoch 24/100\n",
            "593/593 [==============================] - 11s 18ms/step - loss: 1.0936 - accuracy: 0.5242 - val_loss: 1.2835 - val_accuracy: 0.5569 - lr: 0.0152\n",
            "Epoch 25/100\n",
            "593/593 [==============================] - 11s 18ms/step - loss: 1.0638 - accuracy: 0.5470 - val_loss: 4.7549 - val_accuracy: 0.5598 - lr: 0.0152\n",
            "Epoch 26/100\n",
            "593/593 [==============================] - 11s 18ms/step - loss: 1.0585 - accuracy: 0.5471 - val_loss: 1.0131 - val_accuracy: 0.5626 - lr: 0.0152\n",
            "Epoch 27/100\n",
            "593/593 [==============================] - 11s 18ms/step - loss: 1.0446 - accuracy: 0.5552 - val_loss: 13.5371 - val_accuracy: 0.5693 - lr: 0.0152\n",
            "Epoch 28/100\n",
            "593/593 [==============================] - 11s 18ms/step - loss: 1.0455 - accuracy: 0.5561 - val_loss: 0.9970 - val_accuracy: 0.5740 - lr: 0.0152\n",
            "Epoch 29/100\n",
            "593/593 [==============================] - 11s 19ms/step - loss: 1.0246 - accuracy: 0.5644 - val_loss: 3.7375 - val_accuracy: 0.5787 - lr: 0.0152\n",
            "Epoch 30/100\n",
            "593/593 [==============================] - 11s 18ms/step - loss: 0.9926 - accuracy: 0.5826 - val_loss: 8.5431 - val_accuracy: 0.5939 - lr: 0.0076\n",
            "Epoch 31/100\n",
            "593/593 [==============================] - 11s 18ms/step - loss: 0.9788 - accuracy: 0.5909 - val_loss: 0.9376 - val_accuracy: 0.6034 - lr: 0.0076\n",
            "Epoch 32/100\n",
            "593/593 [==============================] - 11s 18ms/step - loss: 0.9730 - accuracy: 0.5896 - val_loss: 0.9476 - val_accuracy: 0.6015 - lr: 0.0076\n",
            "Epoch 33/100\n",
            "593/593 [==============================] - 11s 18ms/step - loss: 0.9673 - accuracy: 0.5924 - val_loss: 2.6798 - val_accuracy: 0.5977 - lr: 0.0076\n",
            "Epoch 34/100\n",
            "593/593 [==============================] - 11s 19ms/step - loss: 0.9620 - accuracy: 0.5983 - val_loss: 0.9215 - val_accuracy: 0.6176 - lr: 0.0076\n",
            "Epoch 35/100\n",
            "593/593 [==============================] - 11s 18ms/step - loss: 0.9702 - accuracy: 0.5933 - val_loss: 0.9117 - val_accuracy: 0.6224 - lr: 0.0076\n",
            "Epoch 36/100\n",
            "593/593 [==============================] - 11s 18ms/step - loss: 0.9435 - accuracy: 0.6049 - val_loss: 1.3082 - val_accuracy: 0.6157 - lr: 0.0076\n",
            "Epoch 37/100\n",
            "593/593 [==============================] - 11s 19ms/step - loss: 0.9335 - accuracy: 0.6137 - val_loss: 0.9056 - val_accuracy: 0.6214 - lr: 0.0076\n",
            "Epoch 38/100\n",
            "593/593 [==============================] - 11s 18ms/step - loss: 0.9316 - accuracy: 0.6120 - val_loss: 0.9004 - val_accuracy: 0.6233 - lr: 0.0076\n",
            "Epoch 39/100\n",
            "593/593 [==============================] - 11s 18ms/step - loss: 0.9150 - accuracy: 0.6252 - val_loss: 0.8700 - val_accuracy: 0.6338 - lr: 0.0076\n",
            "Epoch 40/100\n",
            "593/593 [==============================] - 11s 18ms/step - loss: 0.9002 - accuracy: 0.6318 - val_loss: 0.8614 - val_accuracy: 0.6347 - lr: 0.0038\n",
            "Epoch 41/100\n",
            "593/593 [==============================] - 11s 19ms/step - loss: 0.8964 - accuracy: 0.6300 - val_loss: 0.8561 - val_accuracy: 0.6347 - lr: 0.0038\n",
            "Epoch 42/100\n",
            "593/593 [==============================] - 11s 19ms/step - loss: 0.8879 - accuracy: 0.6364 - val_loss: 0.8557 - val_accuracy: 0.6499 - lr: 0.0038\n",
            "Epoch 43/100\n",
            "593/593 [==============================] - 11s 18ms/step - loss: 0.8915 - accuracy: 0.6347 - val_loss: 0.8703 - val_accuracy: 0.6442 - lr: 0.0038\n",
            "Epoch 44/100\n",
            "593/593 [==============================] - 11s 18ms/step - loss: 0.8859 - accuracy: 0.6358 - val_loss: 0.8565 - val_accuracy: 0.6433 - lr: 0.0038\n",
            "Epoch 45/100\n",
            "593/593 [==============================] - 11s 19ms/step - loss: 0.8764 - accuracy: 0.6415 - val_loss: 0.8455 - val_accuracy: 0.6537 - lr: 0.0038\n",
            "Epoch 46/100\n",
            "593/593 [==============================] - 11s 18ms/step - loss: 0.8711 - accuracy: 0.6443 - val_loss: 1.2055 - val_accuracy: 0.6528 - lr: 0.0038\n",
            "Epoch 47/100\n",
            "593/593 [==============================] - 11s 18ms/step - loss: 0.8670 - accuracy: 0.6480 - val_loss: 3.8792 - val_accuracy: 0.6404 - lr: 0.0038\n",
            "Epoch 48/100\n",
            "593/593 [==============================] - 11s 18ms/step - loss: 0.8621 - accuracy: 0.6447 - val_loss: 0.9187 - val_accuracy: 0.6490 - lr: 0.0038\n",
            "Epoch 49/100\n",
            "593/593 [==============================] - 11s 18ms/step - loss: 0.8670 - accuracy: 0.6482 - val_loss: 0.8645 - val_accuracy: 0.6328 - lr: 0.0038\n",
            "Epoch 50/100\n",
            "593/593 [==============================] - 11s 19ms/step - loss: 0.8572 - accuracy: 0.6521 - val_loss: 0.8613 - val_accuracy: 0.6613 - lr: 0.0019\n",
            "Epoch 51/100\n",
            "593/593 [==============================] - 11s 18ms/step - loss: 0.8549 - accuracy: 0.6523 - val_loss: 0.8398 - val_accuracy: 0.6660 - lr: 0.0019\n",
            "Epoch 52/100\n",
            "593/593 [==============================] - 11s 19ms/step - loss: 0.8496 - accuracy: 0.6556 - val_loss: 0.8291 - val_accuracy: 0.6689 - lr: 0.0019\n",
            "Epoch 53/100\n",
            "593/593 [==============================] - 11s 18ms/step - loss: 0.8442 - accuracy: 0.6577 - val_loss: 0.8249 - val_accuracy: 0.6679 - lr: 0.0019\n",
            "Epoch 54/100\n",
            "593/593 [==============================] - 11s 18ms/step - loss: 0.8386 - accuracy: 0.6611 - val_loss: 0.8263 - val_accuracy: 0.6603 - lr: 0.0019\n",
            "Epoch 55/100\n",
            "593/593 [==============================] - 11s 18ms/step - loss: 0.8397 - accuracy: 0.6550 - val_loss: 2.0965 - val_accuracy: 0.6594 - lr: 0.0019\n",
            "Epoch 56/100\n",
            "593/593 [==============================] - 11s 18ms/step - loss: 0.8405 - accuracy: 0.6559 - val_loss: 0.9268 - val_accuracy: 0.6660 - lr: 0.0019\n",
            "Epoch 57/100\n",
            "593/593 [==============================] - 11s 19ms/step - loss: 0.8405 - accuracy: 0.6611 - val_loss: 0.8510 - val_accuracy: 0.6632 - lr: 0.0019\n",
            "Epoch 58/100\n",
            "593/593 [==============================] - 11s 18ms/step - loss: 0.8401 - accuracy: 0.6592 - val_loss: 0.8181 - val_accuracy: 0.6708 - lr: 0.0019\n",
            "Epoch 59/100\n",
            "593/593 [==============================] - 11s 18ms/step - loss: 0.8345 - accuracy: 0.6618 - val_loss: 0.8497 - val_accuracy: 0.6603 - lr: 0.0019\n",
            "Epoch 60/100\n",
            "593/593 [==============================] - 11s 18ms/step - loss: 0.8283 - accuracy: 0.6642 - val_loss: 0.8351 - val_accuracy: 0.6670 - lr: 9.4770e-04\n",
            "Epoch 61/100\n",
            "593/593 [==============================] - 11s 19ms/step - loss: 0.8264 - accuracy: 0.6635 - val_loss: 0.8274 - val_accuracy: 0.6774 - lr: 9.4770e-04\n",
            "Epoch 62/100\n",
            "593/593 [==============================] - 11s 18ms/step - loss: 0.8252 - accuracy: 0.6664 - val_loss: 0.8172 - val_accuracy: 0.6708 - lr: 9.4770e-04\n",
            "Epoch 63/100\n",
            "593/593 [==============================] - 11s 18ms/step - loss: 0.8284 - accuracy: 0.6637 - val_loss: 0.8172 - val_accuracy: 0.6689 - lr: 9.4770e-04\n",
            "Epoch 64/100\n",
            "593/593 [==============================] - 11s 18ms/step - loss: 0.8234 - accuracy: 0.6653 - val_loss: 0.8131 - val_accuracy: 0.6746 - lr: 9.4770e-04\n",
            "Epoch 65/100\n",
            "593/593 [==============================] - 11s 18ms/step - loss: 0.8185 - accuracy: 0.6699 - val_loss: 0.8152 - val_accuracy: 0.6698 - lr: 9.4770e-04\n",
            "Epoch 66/100\n",
            "593/593 [==============================] - 11s 19ms/step - loss: 0.8122 - accuracy: 0.6748 - val_loss: 0.8076 - val_accuracy: 0.6746 - lr: 9.4770e-04\n",
            "Epoch 67/100\n",
            "593/593 [==============================] - 11s 19ms/step - loss: 0.8205 - accuracy: 0.6673 - val_loss: 0.8330 - val_accuracy: 0.6518 - lr: 9.4770e-04\n",
            "Epoch 68/100\n",
            "593/593 [==============================] - 11s 18ms/step - loss: 0.8140 - accuracy: 0.6709 - val_loss: 0.8078 - val_accuracy: 0.6670 - lr: 9.4770e-04\n",
            "Epoch 69/100\n",
            "593/593 [==============================] - 11s 18ms/step - loss: 0.8174 - accuracy: 0.6654 - val_loss: 0.8040 - val_accuracy: 0.6765 - lr: 9.4770e-04\n",
            "Epoch 70/100\n",
            "593/593 [==============================] - 11s 18ms/step - loss: 0.8127 - accuracy: 0.6697 - val_loss: 0.8625 - val_accuracy: 0.6708 - lr: 4.7385e-04\n",
            "Epoch 71/100\n",
            "593/593 [==============================] - 11s 19ms/step - loss: 0.8126 - accuracy: 0.6712 - val_loss: 0.8040 - val_accuracy: 0.6755 - lr: 4.7385e-04\n",
            "Epoch 72/100\n",
            "593/593 [==============================] - 11s 19ms/step - loss: 0.8093 - accuracy: 0.6743 - val_loss: 0.8459 - val_accuracy: 0.6708 - lr: 4.7385e-04\n",
            "Epoch 73/100\n",
            "593/593 [==============================] - 11s 18ms/step - loss: 0.8127 - accuracy: 0.6720 - val_loss: 0.8428 - val_accuracy: 0.6746 - lr: 4.7385e-04\n",
            "Epoch 74/100\n",
            "593/593 [==============================] - 11s 18ms/step - loss: 0.8190 - accuracy: 0.6693 - val_loss: 0.8059 - val_accuracy: 0.6698 - lr: 4.7385e-04\n",
            "Epoch 75/100\n",
            "593/593 [==============================] - 11s 18ms/step - loss: 0.8108 - accuracy: 0.6712 - val_loss: 0.8044 - val_accuracy: 0.6727 - lr: 4.7385e-04\n",
            "Epoch 76/100\n",
            "593/593 [==============================] - 11s 18ms/step - loss: 0.8098 - accuracy: 0.6772 - val_loss: 0.8065 - val_accuracy: 0.6746 - lr: 4.7385e-04\n",
            "Epoch 77/100\n",
            "593/593 [==============================] - 11s 18ms/step - loss: 0.8036 - accuracy: 0.6710 - val_loss: 0.8050 - val_accuracy: 0.6755 - lr: 4.7385e-04\n",
            "Epoch 78/100\n",
            "593/593 [==============================] - 11s 18ms/step - loss: 0.8129 - accuracy: 0.6720 - val_loss: 0.8022 - val_accuracy: 0.6784 - lr: 4.7385e-04\n",
            "Epoch 79/100\n",
            "593/593 [==============================] - 11s 18ms/step - loss: 0.8055 - accuracy: 0.6754 - val_loss: 0.8056 - val_accuracy: 0.6765 - lr: 4.7385e-04\n",
            "Epoch 80/100\n",
            "593/593 [==============================] - 11s 19ms/step - loss: 0.8051 - accuracy: 0.6725 - val_loss: 0.8038 - val_accuracy: 0.6765 - lr: 2.3693e-04\n",
            "Epoch 81/100\n",
            "593/593 [==============================] - 11s 19ms/step - loss: 0.8086 - accuracy: 0.6720 - val_loss: 0.8037 - val_accuracy: 0.6755 - lr: 2.3693e-04\n",
            "Epoch 82/100\n",
            "593/593 [==============================] - 11s 18ms/step - loss: 0.7988 - accuracy: 0.6781 - val_loss: 0.8018 - val_accuracy: 0.6746 - lr: 2.3693e-04\n",
            "Epoch 83/100\n",
            "593/593 [==============================] - 11s 18ms/step - loss: 0.8122 - accuracy: 0.6730 - val_loss: 0.8066 - val_accuracy: 0.6736 - lr: 2.3693e-04\n",
            "Epoch 84/100\n",
            "593/593 [==============================] - 11s 18ms/step - loss: 0.7992 - accuracy: 0.6784 - val_loss: 0.8810 - val_accuracy: 0.6727 - lr: 2.3693e-04\n",
            "Epoch 85/100\n",
            "593/593 [==============================] - 11s 18ms/step - loss: 0.8024 - accuracy: 0.6738 - val_loss: 0.8022 - val_accuracy: 0.6812 - lr: 2.3693e-04\n",
            "Epoch 86/100\n",
            "593/593 [==============================] - 11s 18ms/step - loss: 0.8064 - accuracy: 0.6730 - val_loss: 0.8661 - val_accuracy: 0.6727 - lr: 2.3693e-04\n",
            "Epoch 87/100\n",
            "593/593 [==============================] - 11s 18ms/step - loss: 0.8068 - accuracy: 0.6759 - val_loss: 0.8014 - val_accuracy: 0.6755 - lr: 2.3693e-04\n",
            "Epoch 88/100\n",
            "593/593 [==============================] - 11s 18ms/step - loss: 0.8000 - accuracy: 0.6769 - val_loss: 0.8012 - val_accuracy: 0.6727 - lr: 2.3693e-04\n",
            "Epoch 89/100\n",
            "593/593 [==============================] - 11s 18ms/step - loss: 0.8049 - accuracy: 0.6763 - val_loss: 0.8020 - val_accuracy: 0.6793 - lr: 2.3693e-04\n",
            "Epoch 90/100\n",
            "593/593 [==============================] - 11s 19ms/step - loss: 0.8077 - accuracy: 0.6730 - val_loss: 0.8084 - val_accuracy: 0.6793 - lr: 1.1846e-04\n",
            "Epoch 91/100\n",
            "593/593 [==============================] - 11s 18ms/step - loss: 0.7976 - accuracy: 0.6769 - val_loss: 0.8014 - val_accuracy: 0.6784 - lr: 1.1846e-04\n",
            "Epoch 92/100\n",
            "593/593 [==============================] - 11s 19ms/step - loss: 0.8061 - accuracy: 0.6744 - val_loss: 0.8020 - val_accuracy: 0.6803 - lr: 1.1846e-04\n",
            "Epoch 93/100\n",
            "593/593 [==============================] - 11s 19ms/step - loss: 0.7987 - accuracy: 0.6783 - val_loss: 0.8015 - val_accuracy: 0.6727 - lr: 1.1846e-04\n",
            "Epoch 94/100\n",
            "593/593 [==============================] - 11s 19ms/step - loss: 0.8028 - accuracy: 0.6744 - val_loss: 0.8030 - val_accuracy: 0.6774 - lr: 1.1846e-04\n",
            "Epoch 95/100\n",
            "593/593 [==============================] - 11s 18ms/step - loss: 0.8022 - accuracy: 0.6770 - val_loss: 0.8038 - val_accuracy: 0.6774 - lr: 1.1846e-04\n",
            "Epoch 96/100\n",
            "593/593 [==============================] - 11s 18ms/step - loss: 0.8020 - accuracy: 0.6755 - val_loss: 0.8031 - val_accuracy: 0.6793 - lr: 1.1846e-04\n",
            "Epoch 97/100\n",
            "593/593 [==============================] - 11s 18ms/step - loss: 0.8069 - accuracy: 0.6756 - val_loss: 0.8028 - val_accuracy: 0.6784 - lr: 1.1846e-04\n",
            "Epoch 98/100\n",
            "593/593 [==============================] - 11s 18ms/step - loss: 0.8009 - accuracy: 0.6788 - val_loss: 0.8032 - val_accuracy: 0.6793 - lr: 1.1846e-04\n",
            "Epoch 99/100\n",
            "593/593 [==============================] - 11s 18ms/step - loss: 0.7993 - accuracy: 0.6843 - val_loss: 0.8035 - val_accuracy: 0.6746 - lr: 1.1846e-04\n",
            "Epoch 100/100\n",
            "593/593 [==============================] - 11s 18ms/step - loss: 0.8031 - accuracy: 0.6763 - val_loss: 0.8023 - val_accuracy: 0.6793 - lr: 5.9232e-05\n"
          ]
        }
      ],
      "source": [
        "history = model.fit(\n",
        "    x_train,\n",
        "    y_train,\n",
        "    batch_size = 32,\n",
        "    validation_data = (x_val, y_val),\n",
        "    callbacks = get_callbacks(),\n",
        "    epochs = 100\n",
        ")"
      ]
    },
    {
      "cell_type": "code",
      "execution_count": 33,
      "metadata": {
        "colab": {
          "base_uri": "https://localhost:8080/"
        },
        "id": "v3CQgRUOX7d7",
        "outputId": "398f5c41-81a0-473b-bee1-9eb8971b90db"
      },
      "outputs": [
        {
          "name": "stdout",
          "output_type": "stream",
          "text": [
            "33/33 [==============================] - 0s 9ms/step - loss: 0.8303 - accuracy: 0.6638\n"
          ]
        },
        {
          "data": {
            "text/plain": [
              "[0.8303011655807495, 0.6638176441192627]"
            ]
          },
          "execution_count": 33,
          "metadata": {},
          "output_type": "execute_result"
        }
      ],
      "source": [
        "predictions = model.predict(x_test)\n",
        "model.evaluate(x_test, y_test)"
      ]
    },
    {
      "cell_type": "code",
      "execution_count": 13,
      "metadata": {
        "id": "GEG_s9D0fdb9"
      },
      "outputs": [],
      "source": [
        "model.save(\"model.h5\")"
      ]
    },
    {
      "cell_type": "code",
      "execution_count": 95,
      "metadata": {
        "colab": {
          "base_uri": "https://localhost:8080/",
          "height": 301
        },
        "id": "1JcjJLMQLT82",
        "outputId": "e11adbb1-92f7-4e10-8937-b4ffc037bb90"
      },
      "outputs": [
        {
          "data": {
            "text/plain": [
              "<matplotlib.legend.Legend at 0x7f9434327390>"
            ]
          },
          "execution_count": 95,
          "metadata": {},
          "output_type": "execute_result"
        },
        {
          "data": {
            "image/png": "[encoded data removed]",
            "text/plain": [
              "<Figure size 432x288 with 1 Axes>"
            ]
          },
          "metadata": {},
          "output_type": "display_data"
        }
      ],
      "source": [
        "sns.set()\n",
        "plt.yticks(np.arange(0, 1, 0.05))\n",
        "plt.plot(history.history['val_accuracy'])\n",
        "plt.plot(history.history['accuracy'])\n",
        "plt.title(\"Accuracy\")\n",
        "plt.legend([\"Validation\", \"Train\"], loc='lower right')"
      ]
    },
    {
      "cell_type": "code",
      "execution_count": 28,
      "metadata": {
        "colab": {
          "base_uri": "https://localhost:8080/",
          "height": 301
        },
        "id": "y84d34KmrY6A",
        "outputId": "1029fc9c-314a-443f-9460-a7dca2655710"
      },
      "outputs": [
        {
          "data": {
            "text/plain": [
              "<matplotlib.legend.Legend at 0x7f943f883dd0>"
            ]
          },
          "execution_count": 28,
          "metadata": {},
          "output_type": "execute_result"
        },
        {
          "data": {
            "image/png": "[encoded data removed]",
            "text/plain": [
              "<Figure size 432x288 with 1 Axes>"
            ]
          },
          "metadata": {},
          "output_type": "display_data"
        }
      ],
      "source": [
        "plt.gca().set_ylim([0.7, 2])\n",
        "plt.plot(history.history['val_loss'])\n",
        "plt.plot(history.history['loss'])\n",
        "plt.title(\"Loss\")\n",
        "plt.legend([\"Validation\", \"Train\"], loc='upper right')"
      ]
    },
    {
      "cell_type": "code",
      "execution_count": 115,
      "metadata": {
        "colab": {
          "base_uri": "https://localhost:8080/",
          "height": 302
        },
        "id": "YkndVEG-sjlc",
        "outputId": "1294ac78-fd44-4ceb-e622-186f451edc7a"
      },
      "outputs": [
        {
          "data": {
            "text/plain": [
              "Text(0.5, 12.5, 'Predicted')"
            ]
          },
          "execution_count": 115,
          "metadata": {},
          "output_type": "execute_result"
        },
        {
          "data": {
            "image/png": "[encoded data removed]",
            "text/plain": [
              "<Figure size 432x288 with 2 Axes>"
            ]
          },
          "metadata": {},
          "output_type": "display_data"
        }
      ],
      "source": [
        "matrix = confusion_matrix(\n",
        "    [np.argmax(pred) for pred in y_test],\n",
        "    [np.argmax(pred) for pred in predictions],\n",
        ")\n",
        "\n",
        "map = pd.DataFrame(\n",
        "    matrix,\n",
        "    [\"angry\", \"happy\", \"neutral\", \"sad\"],\n",
        "    [\"angry\", \"happy\", \"neutral\", \"sad\"]\n",
        ")\n",
        "\n",
        "sns.heatmap(\n",
        "    map,\n",
        "    annot=True,\n",
        "    fmt='g',\n",
        "    vmin=np.min(matrix),\n",
        "    vmax=np.max(matrix),\n",
        "    cmap='magma_r'\n",
        ")\n",
        "plt.ylabel(\"Correct\")\n",
        "plt.xlabel(\"Predicted\")"
      ]
    }
  ],
  "metadata": {
    "accelerator": "GPU",
    "colab": {
      "collapsed_sections": [],
      "name": "PhoeniX Coding Days 2021.ipynb",
      "provenance": []
    },
    "kernelspec": {
      "display_name": "Python 3",
      "name": "python3"
    },
    "language_info": {
      "name": "python"
    }
  },
  "nbformat": 4,
  "nbformat_minor": 0
}
