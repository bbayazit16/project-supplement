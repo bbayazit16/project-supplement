{
  "nbformat": 4,
  "nbformat_minor": 0,
  "metadata": {
    "colab": {
      "name": "Boston Housing - Normal.ipynb",
      "provenance": []
    },
    "kernelspec": {
      "name": "python3",
      "display_name": "Python 3"
    },
    "language_info": {
      "name": "python"
    }
  },
  "cells": [
    {
      "cell_type": "code",
      "metadata": {
        "id": "sp5cAH4W9DPC"
      },
      "source": [
        "import matplotlib.pyplot as plt\n",
        "from tensorflow import keras\n",
        "import pandas as pd\n",
        "import numpy as np\n",
        "%matplotlib inline"
      ],
      "execution_count": null,
      "outputs": []
    },
    {
      "cell_type": "markdown",
      "metadata": {
        "id": "ZTxyABDB-7I_"
      },
      "source": [
        "#  Labellar\n",
        "\n",
        "- per capita crime rate by town\n",
        "\n",
        "- proportion of residential land zoned for lots over 25,000 sq.ft.\n",
        "\n",
        "- proportion of non-retail business acres per town\n",
        "\n",
        "- Charles River dummy variable (= 1 if tract bounds \n",
        "river; 0 otherwise)\n",
        "\n",
        "- nitric oxides concentration (parts per 10 million)\n",
        "\n",
        "- average number of rooms per dwelling\n",
        "\n",
        "- proportion of owner-occupied units built prior to 1940\n",
        "\n",
        "- weighted distances to five Boston employment centres\n",
        "\n",
        "- index of accessibility to radial highways\n",
        "\n",
        "- full-value property-tax rate per $10,000\n",
        "\n",
        "- pupil-teacher ratio by town\n",
        "\n",
        "- 1000(Bk - 0.63)^2 where Bk is the proportion of blacks by town\n",
        "\n",
        "- % lower status of the population\n",
        "\n",
        "---\n",
        "\n",
        "Y_TRAIN:\n",
        "\n",
        "- Median value of owner-occupied homes in $1000's\n",
        "\n",
        "---\n",
        "\n",
        "Normalde csv dosyalarında labellar olur, ancak Keras datasetinde numpy array\n",
        "\n",
        "[Kaynak - Carnegie Mellon Üniversitesi](http://lib.stat.cmu.edu/datasets/boston)\n"
      ]
    },
    {
      "cell_type": "code",
      "metadata": {
        "id": "BHgcH_fR9qOs"
      },
      "source": [
        "(x_train, y_train), (x_test, y_test) = keras.datasets.boston_housing.load_data()"
      ],
      "execution_count": null,
      "outputs": []
    },
    {
      "cell_type": "code",
      "metadata": {
        "colab": {
          "base_uri": "https://localhost:8080/"
        },
        "id": "cHJR0GPGIO4R",
        "outputId": "740e6e68-d6d8-4f5d-de53-cadec7132ea9"
      },
      "source": [
        "x_train.shape, y_train.shape"
      ],
      "execution_count": null,
      "outputs": [
        {
          "output_type": "execute_result",
          "data": {
            "text/plain": [
              "((404, 13), (404,))"
            ]
          },
          "metadata": {
            "tags": []
          },
          "execution_count": 22
        }
      ]
    },
    {
      "cell_type": "code",
      "metadata": {
        "id": "If5iH-hiITXl"
      },
      "source": [
        "model = keras.Sequential([\n",
        "                          keras.layers.InputLayer(input_shape=(13)),\n",
        "                          keras.layers.Dense(512, activation='relu'),\n",
        "                          keras.layers.Dropout(0.1),\n",
        "                          keras.layers.Dense(256, activation='relu'),\n",
        "                          keras.layers.Dropout(0.1),\n",
        "                          keras.layers.Dense(1, activation='linear')\n",
        "])"
      ],
      "execution_count": null,
      "outputs": []
    },
    {
      "cell_type": "code",
      "metadata": {
        "id": "xgUcD2OwJAJR"
      },
      "source": [
        "model.compile(optimizer='adam', loss='mean_squared_error')"
      ],
      "execution_count": null,
      "outputs": []
    },
    {
      "cell_type": "code",
      "metadata": {
        "colab": {
          "base_uri": "https://localhost:8080/"
        },
        "id": "qz74oEiBJEVZ",
        "outputId": "4d792c65-2d44-4e2e-e974-4d907e5ef9db"
      },
      "source": [
        "model.fit(x_train, y_train, epochs=64)"
      ],
      "execution_count": null,
      "outputs": [
        {
          "output_type": "stream",
          "text": [
            "Epoch 1/64\n",
            "13/13 [==============================] - 0s 2ms/step - loss: 1023.9065\n",
            "Epoch 2/64\n",
            "13/13 [==============================] - 0s 2ms/step - loss: 235.4561\n",
            "Epoch 3/64\n",
            "13/13 [==============================] - 0s 1ms/step - loss: 195.9684\n",
            "Epoch 4/64\n",
            "13/13 [==============================] - 0s 1ms/step - loss: 176.7593\n",
            "Epoch 5/64\n",
            "13/13 [==============================] - 0s 1ms/step - loss: 146.2254\n",
            "Epoch 6/64\n",
            "13/13 [==============================] - 0s 1ms/step - loss: 123.2948\n",
            "Epoch 7/64\n",
            "13/13 [==============================] - 0s 1ms/step - loss: 115.8705\n",
            "Epoch 8/64\n",
            "13/13 [==============================] - 0s 1ms/step - loss: 105.0364\n",
            "Epoch 9/64\n",
            "13/13 [==============================] - 0s 1ms/step - loss: 89.6168\n",
            "Epoch 10/64\n",
            "13/13 [==============================] - 0s 1ms/step - loss: 98.9627\n",
            "Epoch 11/64\n",
            "13/13 [==============================] - 0s 1ms/step - loss: 86.6095\n",
            "Epoch 12/64\n",
            "13/13 [==============================] - 0s 1ms/step - loss: 72.3063\n",
            "Epoch 13/64\n",
            "13/13 [==============================] - 0s 1ms/step - loss: 79.4826\n",
            "Epoch 14/64\n",
            "13/13 [==============================] - 0s 1ms/step - loss: 79.1015\n",
            "Epoch 15/64\n",
            "13/13 [==============================] - 0s 1ms/step - loss: 66.1442\n",
            "Epoch 16/64\n",
            "13/13 [==============================] - 0s 1ms/step - loss: 70.7215\n",
            "Epoch 17/64\n",
            "13/13 [==============================] - 0s 1ms/step - loss: 70.2880\n",
            "Epoch 18/64\n",
            "13/13 [==============================] - 0s 1ms/step - loss: 69.4306\n",
            "Epoch 19/64\n",
            "13/13 [==============================] - 0s 1ms/step - loss: 56.2453\n",
            "Epoch 20/64\n",
            "13/13 [==============================] - 0s 1ms/step - loss: 60.8331\n",
            "Epoch 21/64\n",
            "13/13 [==============================] - 0s 1ms/step - loss: 70.0906\n",
            "Epoch 22/64\n",
            "13/13 [==============================] - 0s 1ms/step - loss: 68.2918\n",
            "Epoch 23/64\n",
            "13/13 [==============================] - 0s 1ms/step - loss: 58.3475\n",
            "Epoch 24/64\n",
            "13/13 [==============================] - 0s 1ms/step - loss: 58.1705\n",
            "Epoch 25/64\n",
            "13/13 [==============================] - 0s 1ms/step - loss: 63.8443\n",
            "Epoch 26/64\n",
            "13/13 [==============================] - 0s 1ms/step - loss: 57.9978\n",
            "Epoch 27/64\n",
            "13/13 [==============================] - 0s 1ms/step - loss: 54.4171\n",
            "Epoch 28/64\n",
            "13/13 [==============================] - 0s 1ms/step - loss: 55.5796\n",
            "Epoch 29/64\n",
            "13/13 [==============================] - 0s 1ms/step - loss: 51.2764\n",
            "Epoch 30/64\n",
            "13/13 [==============================] - 0s 2ms/step - loss: 47.7643\n",
            "Epoch 31/64\n",
            "13/13 [==============================] - 0s 2ms/step - loss: 43.8918\n",
            "Epoch 32/64\n",
            "13/13 [==============================] - 0s 2ms/step - loss: 53.3378\n",
            "Epoch 33/64\n",
            "13/13 [==============================] - 0s 2ms/step - loss: 45.3867\n",
            "Epoch 34/64\n",
            "13/13 [==============================] - 0s 2ms/step - loss: 49.6617\n",
            "Epoch 35/64\n",
            "13/13 [==============================] - 0s 2ms/step - loss: 50.9895\n",
            "Epoch 36/64\n",
            "13/13 [==============================] - 0s 1ms/step - loss: 45.0961\n",
            "Epoch 37/64\n",
            "13/13 [==============================] - 0s 1ms/step - loss: 47.3849\n",
            "Epoch 38/64\n",
            "13/13 [==============================] - 0s 1ms/step - loss: 44.7589\n",
            "Epoch 39/64\n",
            "13/13 [==============================] - 0s 1ms/step - loss: 47.3486\n",
            "Epoch 40/64\n",
            "13/13 [==============================] - 0s 1ms/step - loss: 42.1580\n",
            "Epoch 41/64\n",
            "13/13 [==============================] - 0s 1ms/step - loss: 43.8153\n",
            "Epoch 42/64\n",
            "13/13 [==============================] - 0s 1ms/step - loss: 40.6665\n",
            "Epoch 43/64\n",
            "13/13 [==============================] - 0s 2ms/step - loss: 40.9123\n",
            "Epoch 44/64\n",
            "13/13 [==============================] - 0s 2ms/step - loss: 46.0772\n",
            "Epoch 45/64\n",
            "13/13 [==============================] - 0s 2ms/step - loss: 38.8550\n",
            "Epoch 46/64\n",
            "13/13 [==============================] - 0s 2ms/step - loss: 38.1820\n",
            "Epoch 47/64\n",
            "13/13 [==============================] - 0s 2ms/step - loss: 38.7356\n",
            "Epoch 48/64\n",
            "13/13 [==============================] - 0s 2ms/step - loss: 39.5158\n",
            "Epoch 49/64\n",
            "13/13 [==============================] - 0s 2ms/step - loss: 34.5944\n",
            "Epoch 50/64\n",
            "13/13 [==============================] - 0s 2ms/step - loss: 44.7156\n",
            "Epoch 51/64\n",
            "13/13 [==============================] - 0s 2ms/step - loss: 42.6104\n",
            "Epoch 52/64\n",
            "13/13 [==============================] - 0s 2ms/step - loss: 43.2909\n",
            "Epoch 53/64\n",
            "13/13 [==============================] - 0s 2ms/step - loss: 44.2379\n",
            "Epoch 54/64\n",
            "13/13 [==============================] - 0s 2ms/step - loss: 40.9592\n",
            "Epoch 55/64\n",
            "13/13 [==============================] - 0s 2ms/step - loss: 38.9471\n",
            "Epoch 56/64\n",
            "13/13 [==============================] - 0s 2ms/step - loss: 35.3456\n",
            "Epoch 57/64\n",
            "13/13 [==============================] - 0s 2ms/step - loss: 36.4839\n",
            "Epoch 58/64\n",
            "13/13 [==============================] - 0s 1ms/step - loss: 37.1122\n",
            "Epoch 59/64\n",
            "13/13 [==============================] - 0s 1ms/step - loss: 33.5938\n",
            "Epoch 60/64\n",
            "13/13 [==============================] - 0s 1ms/step - loss: 34.2389\n",
            "Epoch 61/64\n",
            "13/13 [==============================] - 0s 2ms/step - loss: 39.1296\n",
            "Epoch 62/64\n",
            "13/13 [==============================] - 0s 3ms/step - loss: 39.6605\n",
            "Epoch 63/64\n",
            "13/13 [==============================] - 0s 2ms/step - loss: 37.5011\n",
            "Epoch 64/64\n",
            "13/13 [==============================] - 0s 2ms/step - loss: 31.8199\n"
          ],
          "name": "stdout"
        },
        {
          "output_type": "execute_result",
          "data": {
            "text/plain": [
              "<keras.callbacks.History at 0x7fb67440d340>"
            ]
          },
          "metadata": {
            "tags": []
          },
          "execution_count": 25
        }
      ]
    },
    {
      "cell_type": "markdown",
      "metadata": {
        "id": "YXIJD338HNlv"
      },
      "source": [
        "## Accuracy\n",
        "\n",
        "Eğer modelimiz 1 dolar bile hata yaptıysa, o cevap yanlış sayılır. Eğer böyle olursa, regresyon problemi olduğu için, doğruluk çok düşük çıkar. Bu yüzden mean square error'u accuracy olarak kulanabiliriz. Model'imizi .compile yaparken zaten loss'u mean_square_error olarak ayarlamıştık."
      ]
    },
    {
      "cell_type": "code",
      "metadata": {
        "colab": {
          "base_uri": "https://localhost:8080/"
        },
        "id": "QapTtCLQEYXY",
        "outputId": "c9db5fad-a11e-4119-a9c8-522af358ea38"
      },
      "source": [
        "model.evaluate(x_test, y_test)"
      ],
      "execution_count": null,
      "outputs": [
        {
          "output_type": "stream",
          "text": [
            "4/4 [==============================] - 0s 1ms/step - loss: 44.6731\n"
          ],
          "name": "stdout"
        },
        {
          "output_type": "execute_result",
          "data": {
            "text/plain": [
              "44.67306137084961"
            ]
          },
          "metadata": {
            "tags": []
          },
          "execution_count": 26
        }
      ]
    }
  ]
}