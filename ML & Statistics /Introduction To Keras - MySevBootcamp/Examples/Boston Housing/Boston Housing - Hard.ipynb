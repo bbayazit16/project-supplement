{
  "nbformat": 4,
  "nbformat_minor": 0,
  "metadata": {
    "colab": {
      "name": "Boston Housing - Hard.ipynb",
      "provenance": []
    },
    "kernelspec": {
      "name": "python3",
      "display_name": "Python 3"
    },
    "language_info": {
      "name": "python"
    }
  },
  "cells": [
    {
      "cell_type": "code",
      "metadata": {
        "id": "sp5cAH4W9DPC"
      },
      "source": [
        "import matplotlib.pyplot as plt\n",
        "from tensorflow import keras\n",
        "import pandas as pd\n",
        "import numpy as np\n",
        "%matplotlib inline"
      ],
      "execution_count": null,
      "outputs": []
    },
    {
      "cell_type": "markdown",
      "metadata": {
        "id": "ZTxyABDB-7I_"
      },
      "source": [
        "#  Labellar\n",
        "\n",
        "- per capita crime rate by town\n",
        "\n",
        "- proportion of residential land zoned for lots over 25,000 sq.ft.\n",
        "\n",
        "- proportion of non-retail business acres per town\n",
        "\n",
        "- Charles River dummy variable (= 1 if tract bounds \n",
        "river; 0 otherwise)\n",
        "\n",
        "- nitric oxides concentration (parts per 10 million)\n",
        "\n",
        "- average number of rooms per dwelling\n",
        "\n",
        "- proportion of owner-occupied units built prior to 1940\n",
        "\n",
        "- weighted distances to five Boston employment centres\n",
        "\n",
        "- index of accessibility to radial highways\n",
        "\n",
        "- full-value property-tax rate per $10,000\n",
        "\n",
        "- pupil-teacher ratio by town\n",
        "\n",
        "- 1000(Bk - 0.63)^2 where Bk is the proportion of blacks by town\n",
        "\n",
        "- % lower status of the population\n",
        "\n",
        "---\n",
        "\n",
        "Y_TRAIN:\n",
        "\n",
        "- Median value of owner-occupied homes in $1000's\n",
        "\n",
        "---\n",
        "\n",
        "Normalde csv dosyalarında labellar olur, ancak Keras datasetinde numpy array\n",
        "\n",
        "[Kaynak - Carnegie Mellon Üniversitesi](http://lib.stat.cmu.edu/datasets/boston)\n"
      ]
    },
    {
      "cell_type": "code",
      "metadata": {
        "id": "BHgcH_fR9qOs"
      },
      "source": [
        "(x_train, y_train), (x_test, y_test) = keras.datasets.boston_housing.load_data()"
      ],
      "execution_count": null,
      "outputs": []
    },
    {
      "cell_type": "code",
      "metadata": {
        "colab": {
          "base_uri": "https://localhost:8080/"
        },
        "id": "0Zsk5hXJDpvg",
        "outputId": "cb5669c3-4752-4f3b-fa52-7b795cbd3b88"
      },
      "source": [
        "x_train.shape, y_train.shape"
      ],
      "execution_count": null,
      "outputs": [
        {
          "output_type": "execute_result",
          "data": {
            "text/plain": [
              "((404, 13), (404,))"
            ]
          },
          "metadata": {},
          "execution_count": 9
        }
      ]
    },
    {
      "cell_type": "code",
      "metadata": {
        "colab": {
          "base_uri": "https://localhost:8080/"
        },
        "id": "9eweuNyaKurb",
        "outputId": "5424cd6e-a780-4a64-b4a3-b15f942ee1e5"
      },
      "source": [
        "x_train"
      ],
      "execution_count": null,
      "outputs": [
        {
          "output_type": "execute_result",
          "data": {
            "text/plain": [
              "array([[1.23247e+00, 0.00000e+00, 8.14000e+00, ..., 2.10000e+01,\n",
              "        3.96900e+02, 1.87200e+01],\n",
              "       [2.17700e-02, 8.25000e+01, 2.03000e+00, ..., 1.47000e+01,\n",
              "        3.95380e+02, 3.11000e+00],\n",
              "       [4.89822e+00, 0.00000e+00, 1.81000e+01, ..., 2.02000e+01,\n",
              "        3.75520e+02, 3.26000e+00],\n",
              "       ...,\n",
              "       [3.46600e-02, 3.50000e+01, 6.06000e+00, ..., 1.69000e+01,\n",
              "        3.62250e+02, 7.83000e+00],\n",
              "       [2.14918e+00, 0.00000e+00, 1.95800e+01, ..., 1.47000e+01,\n",
              "        2.61950e+02, 1.57900e+01],\n",
              "       [1.43900e-02, 6.00000e+01, 2.93000e+00, ..., 1.56000e+01,\n",
              "        3.76700e+02, 4.38000e+00]])"
            ]
          },
          "metadata": {},
          "execution_count": 10
        }
      ]
    },
    {
      "cell_type": "code",
      "metadata": {
        "id": "CYulj_-_KN0-"
      },
      "source": [
        "from sklearn.preprocessing import MinMaxScaler\n",
        "\n",
        "scaler = MinMaxScaler()\n",
        "x_train = scaler.fit_transform(x_train)\n",
        "x_test = scaler.fit_transform(x_test)\n",
        "\n",
        "# Min Max Scaling, verileri 1 ile 0 arasına alma anlamına geliyor. SkyKitLearn üzerinden minmaxscaler'ı kullanarak\n",
        "# bunu yapabiliriz. Eğer skykitlearn kulanmak istemezseniz kendi fonksiyonunuzu da yazabilirsiniz."
      ],
      "execution_count": null,
      "outputs": []
    },
    {
      "cell_type": "code",
      "metadata": {
        "colab": {
          "base_uri": "https://localhost:8080/"
        },
        "id": "5NWdGSWdKeyi",
        "outputId": "34e64004-49c9-4d33-ec79-c0da81d8e660"
      },
      "source": [
        "x_train"
      ],
      "execution_count": null,
      "outputs": [
        {
          "output_type": "execute_result",
          "data": {
            "text/plain": [
              "array([[1.37816304e-02, 0.00000000e+00, 2.81524927e-01, ...,\n",
              "        8.93617021e-01, 1.00000000e+00, 4.68818985e-01],\n",
              "       [1.73654275e-04, 8.25000000e-01, 5.75513196e-02, ...,\n",
              "        2.23404255e-01, 9.96167230e-01, 3.80794702e-02],\n",
              "       [5.49837765e-02, 0.00000000e+00, 6.46627566e-01, ...,\n",
              "        8.08510638e-01, 9.46089061e-01, 4.22185430e-02],\n",
              "       ...,\n",
              "       [3.18534767e-04, 3.50000000e-01, 2.05278592e-01, ...,\n",
              "        4.57446809e-01, 9.12627969e-01, 1.68322296e-01],\n",
              "       [2.40852297e-02, 0.00000000e+00, 7.00879765e-01, ...,\n",
              "        2.23404255e-01, 6.59715568e-01, 3.87969095e-01],\n",
              "       [9.07048543e-05, 6.00000000e-01, 9.05425220e-02, ...,\n",
              "        3.19148936e-01, 9.49064501e-01, 7.31236203e-02]])"
            ]
          },
          "metadata": {},
          "execution_count": 12
        }
      ]
    },
    {
      "cell_type": "code",
      "metadata": {
        "id": "F0bQlHsGKyuI"
      },
      "source": [
        "model = keras.Sequential([\n",
        "                          keras.layers.InputLayer(input_shape=(13)),\n",
        "                          keras.layers.Dense(128, activation='relu'),\n",
        "                          keras.layers.Dropout(0.1),\n",
        "                          keras.layers.Dense(64, activation='relu'),\n",
        "                          keras.layers.Dense(1, activation='linear')\n",
        "])"
      ],
      "execution_count": null,
      "outputs": []
    },
    {
      "cell_type": "code",
      "metadata": {
        "id": "kZqpC4XkLFYw"
      },
      "source": [
        "model.compile(optimizer='RMSProp', loss='mean_squared_error')"
      ],
      "execution_count": null,
      "outputs": []
    },
    {
      "cell_type": "code",
      "metadata": {
        "id": "eHtK5IiRy2h9"
      },
      "source": [
        ""
      ],
      "execution_count": null,
      "outputs": []
    },
    {
      "cell_type": "code",
      "metadata": {
        "id": "sd6nFH28LKc4"
      },
      "source": [
        "model.fit(x_train, y_train, epochs=500)"
      ],
      "execution_count": null,
      "outputs": []
    },
    {
      "cell_type": "markdown",
      "metadata": {
        "id": "YXIJD338HNlv"
      },
      "source": [
        "## Accuracy\n",
        "\n",
        "Eğer modelimiz 1 dolar bile hata yaptıysa, o cevap yanlış sayılır. Eğer böyle olursa, regresyon problemi olduğu için, doğruluk çok düşük çıkar. Bu yüzden mean square error'u accuracy olarak kulanabiliriz. Model'imizi .compile yaparken zaten loss'u mean_square_error olarak ayarlamıştık."
      ]
    },
    {
      "cell_type": "code",
      "metadata": {
        "colab": {
          "base_uri": "https://localhost:8080/"
        },
        "id": "QapTtCLQEYXY",
        "outputId": "8d853d77-24ec-4f4f-c3e0-de5067724197"
      },
      "source": [
        "model.evaluate(x_test, y_test)"
      ],
      "execution_count": null,
      "outputs": [
        {
          "output_type": "stream",
          "text": [
            "4/4 [==============================] - 0s 3ms/step - loss: 31.7629\n"
          ],
          "name": "stdout"
        },
        {
          "output_type": "execute_result",
          "data": {
            "text/plain": [
              "31.762910842895508"
            ]
          },
          "metadata": {},
          "execution_count": 17
        }
      ]
    }
  ]
}