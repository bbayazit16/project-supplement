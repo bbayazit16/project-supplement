{
  "nbformat": 4,
  "nbformat_minor": 0,
  "metadata": {
    "colab": {
      "name": "MNIST - Hard.ipynb",
      "provenance": []
    },
    "kernelspec": {
      "name": "python3",
      "display_name": "Python 3"
    },
    "language_info": {
      "name": "python"
    },
    "accelerator": "GPU"
  },
  "cells": [
    {
      "cell_type": "markdown",
      "metadata": {
        "id": "bwCxd7ugXMCu"
      },
      "source": [
        "# MNIST Dataseti\n",
        "\n",
        "0'dan 10'a kadar yazılmış el yazısı rakamların fotoğraflarıdır. 60000 resim içerir. AI için aslında bir hello world'dür. [Datasetin rekoru](https://www.kaggle.com/cdeotte/mnist-perfect-100-using-knn) %100'dür."
      ]
    },
    {
      "cell_type": "code",
      "metadata": {
        "id": "VZ9dfi3x3MfZ"
      },
      "source": [
        "import matplotlib.pyplot as plt\n",
        "from tensorflow import keras\n",
        "import numpy as np\n",
        "%matplotlib inline"
      ],
      "execution_count": null,
      "outputs": []
    },
    {
      "cell_type": "code",
      "metadata": {
        "id": "XM0l7CqR3Ux6"
      },
      "source": [
        "(x_train, y_train), (x_test, y_test) = keras.datasets.mnist.load_data()"
      ],
      "execution_count": null,
      "outputs": []
    },
    {
      "cell_type": "code",
      "metadata": {
        "colab": {
          "base_uri": "https://localhost:8080/",
          "height": 299
        },
        "id": "pNBo6mqS3ovO",
        "outputId": "e0f1e1c4-1859-40ac-8753-41fe41dbbd5b"
      },
      "source": [
        "print(x_train.shape, x_test.shape)\n",
        "plt.imshow(x_train[0])\n",
        "y_train[0]"
      ],
      "execution_count": null,
      "outputs": [
        {
          "output_type": "stream",
          "text": [
            "(60000, 28, 28) (10000, 28, 28)\n"
          ],
          "name": "stdout"
        },
        {
          "output_type": "execute_result",
          "data": {
            "text/plain": [
              "5"
            ]
          },
          "metadata": {
            "tags": []
          },
          "execution_count": 15
        },
        {
          "output_type": "display_data",
          "data": {
            "image/png": "[encoded data removed]",
            "text/plain": [
              "<Figure size 432x288 with 1 Axes>"
            ]
          },
          "metadata": {
            "tags": [],
            "needs_background": "light"
          }
        }
      ]
    },
    {
      "cell_type": "code",
      "metadata": {
        "id": "sAv9j06J30s9"
      },
      "source": [
        "x_train, x_test = keras.utils.normalize(x_train), keras.utils.normalize(x_test)"
      ],
      "execution_count": null,
      "outputs": []
    },
    {
      "cell_type": "markdown",
      "metadata": {
        "id": "7_f7wG2DWh1Y"
      },
      "source": [
        "# keras.utils.normalize?????\n",
        "\n",
        "> For example, in the default case, it would normalize the data using L2-normalization (i.e. the sum of squared of elements would be equal to one).\n",
        "\n",
        "Bu dataset için veriyi 0 ile 1 arasına almanan başka bir yolu."
      ]
    },
    {
      "cell_type": "code",
      "metadata": {
        "colab": {
          "base_uri": "https://localhost:8080/",
          "height": 282
        },
        "id": "VB983utH37V9",
        "outputId": "a745ba08-815b-4290-e3cf-0ff04c4aceaf"
      },
      "source": [
        "plt.imshow(x_train[0])"
      ],
      "execution_count": null,
      "outputs": [
        {
          "output_type": "execute_result",
          "data": {
            "text/plain": [
              "<matplotlib.image.AxesImage at 0x7f87fe5b6310>"
            ]
          },
          "metadata": {
            "tags": []
          },
          "execution_count": 17
        },
        {
          "output_type": "display_data",
          "data": {
            "image/png": "[encoded data removed]",
            "text/plain": [
              "<Figure size 432x288 with 1 Axes>"
            ]
          },
          "metadata": {
            "tags": [],
            "needs_background": "light"
          }
        }
      ]
    },
    {
      "cell_type": "code",
      "metadata": {
        "id": "L-kP15DU3_PE"
      },
      "source": [
        "x_train, x_test = x_train.reshape(60000, 28, 28, 1), x_test.reshape(10000, 28, 28, 1)"
      ],
      "execution_count": null,
      "outputs": []
    },
    {
      "cell_type": "markdown",
      "metadata": {
        "id": "m7oAt5zCU8tc"
      },
      "source": [
        "# Reshape, neden?\n",
        "\n",
        "Bu bir convolutional neural network. Keras'larda, Conv2D, 4D array inputu alır. Yani, kısaca, şöyle bir şey yaptık:\n",
        "\n",
        "```\n",
        "[[[1, 2]]] -----> [[[ [1], [2] ]]]\n",
        "```"
      ]
    },
    {
      "cell_type": "code",
      "metadata": {
        "id": "tNeIGMu84UD1"
      },
      "source": [
        "model = keras.Sequential([\n",
        "                          keras.layers.InputLayer(input_shape=(28, 28, 1)),\n",
        "                          keras.layers.Conv2D(64, (3,3), activation='relu'),\n",
        "                          keras.layers.MaxPool2D((2,2)),\n",
        "                          keras.layers.Conv2D(64, (3,3), activation='relu'),\n",
        "                          keras.layers.MaxPool2D((2,2)),\n",
        "                          keras.layers.BatchNormalization(),\n",
        "                          keras.layers.Flatten(),\n",
        "                          keras.layers.Dense(64, activation='relu'),\n",
        "                          keras.layers.Dropout(0.1),\n",
        "                          keras.layers.Dense(10, activation='softmax')\n",
        "])"
      ],
      "execution_count": null,
      "outputs": []
    },
    {
      "cell_type": "code",
      "metadata": {
        "id": "UkkDorVA5GTZ"
      },
      "source": [
        "model.compile(optimizer='adam', loss='sparse_categorical_crossentropy', metrics=['accuracy'])"
      ],
      "execution_count": null,
      "outputs": []
    },
    {
      "cell_type": "code",
      "metadata": {
        "id": "GjQMnahx5jLk"
      },
      "source": [
        "callback = keras.callbacks.EarlyStopping(monitor='accuracy', patience=1)"
      ],
      "execution_count": null,
      "outputs": []
    },
    {
      "cell_type": "code",
      "metadata": {
        "colab": {
          "base_uri": "https://localhost:8080/"
        },
        "id": "LmbuLQBo5MWj",
        "outputId": "c4169d0e-77b0-42bc-eb5e-c2b0634ec80b"
      },
      "source": [
        "model.fit(x_train, y_train, batch_size=128, epochs=20, callbacks=[callback])"
      ],
      "execution_count": null,
      "outputs": [
        {
          "output_type": "stream",
          "text": [
            "Epoch 1/20\n",
            "469/469 [==============================] - 3s 6ms/step - loss: 0.1497 - accuracy: 0.9534\n",
            "Epoch 2/20\n",
            "469/469 [==============================] - 3s 6ms/step - loss: 0.0443 - accuracy: 0.9862\n",
            "Epoch 3/20\n",
            "469/469 [==============================] - 3s 6ms/step - loss: 0.0313 - accuracy: 0.9901\n",
            "Epoch 4/20\n",
            "469/469 [==============================] - 3s 6ms/step - loss: 0.0226 - accuracy: 0.9929\n",
            "Epoch 5/20\n",
            "469/469 [==============================] - 3s 6ms/step - loss: 0.0178 - accuracy: 0.9942\n",
            "Epoch 6/20\n",
            "469/469 [==============================] - 3s 6ms/step - loss: 0.0161 - accuracy: 0.9947\n",
            "Epoch 7/20\n",
            "469/469 [==============================] - 3s 6ms/step - loss: 0.0131 - accuracy: 0.9952\n",
            "Epoch 8/20\n",
            "469/469 [==============================] - 3s 6ms/step - loss: 0.0108 - accuracy: 0.9961\n",
            "Epoch 9/20\n",
            "469/469 [==============================] - 3s 6ms/step - loss: 0.0098 - accuracy: 0.9965\n",
            "Epoch 10/20\n",
            "469/469 [==============================] - 3s 6ms/step - loss: 0.0090 - accuracy: 0.9969\n",
            "Epoch 11/20\n",
            "469/469 [==============================] - 3s 6ms/step - loss: 0.0091 - accuracy: 0.9967\n"
          ],
          "name": "stdout"
        },
        {
          "output_type": "execute_result",
          "data": {
            "text/plain": [
              "<tensorflow.python.keras.callbacks.History at 0x7f87fe4dfc90>"
            ]
          },
          "metadata": {
            "tags": []
          },
          "execution_count": 22
        }
      ]
    },
    {
      "cell_type": "markdown",
      "metadata": {
        "id": "jz43fZz6VgU-"
      },
      "source": [
        "## Batch Size?\n",
        "\n",
        "Batch size, kısacası, yapay zekanın veriyi gruplandırıp tekrar beslemesi. Örneğin 1000 veriyi 100 batch size'da beslersek, 100'lü parçalara bölüp ayrı ayrı eğitilecek. Bu eğitimi hızlandırır."
      ]
    },
    {
      "cell_type": "code",
      "metadata": {
        "colab": {
          "base_uri": "https://localhost:8080/"
        },
        "id": "C4noTjMi64Za",
        "outputId": "873e5cbe-ffad-4feb-cb15-7d11a6146167"
      },
      "source": [
        "model.evaluate(x_test, y_test)\n",
        "# Yüzde 99.27 accuracy!"
      ],
      "execution_count": null,
      "outputs": [
        {
          "output_type": "stream",
          "text": [
            "313/313 [==============================] - 1s 3ms/step - loss: 0.0386 - accuracy: 0.9911\n"
          ],
          "name": "stdout"
        },
        {
          "output_type": "execute_result",
          "data": {
            "text/plain": [
              "[0.038621023297309875, 0.991100013256073]"
            ]
          },
          "metadata": {
            "tags": []
          },
          "execution_count": 23
        }
      ]
    }
  ]
}