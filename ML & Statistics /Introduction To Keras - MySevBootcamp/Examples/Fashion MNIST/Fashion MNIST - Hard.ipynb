{
  "nbformat": 4,
  "nbformat_minor": 0,
  "metadata": {
    "colab": {
      "name": "Fashion MNIST - Hard.ipynb",
      "provenance": [],
      "collapsed_sections": []
    },
    "kernelspec": {
      "name": "python3",
      "display_name": "Python 3"
    },
    "language_info": {
      "name": "python"
    },
    "accelerator": "GPU"
  },
  "cells": [
    {
      "cell_type": "code",
      "metadata": {
        "id": "UNo-6DCxtDcF"
      },
      "source": [
        "import matplotlib.pyplot as plt\n",
        "from tensorflow import keras\n",
        "import numpy as np\n",
        "%matplotlib inline"
      ],
      "execution_count": null,
      "outputs": []
    },
    {
      "cell_type": "code",
      "metadata": {
        "id": "RdpLy6IztXFk",
        "colab": {
          "base_uri": "https://localhost:8080/"
        },
        "outputId": "5be4b791-fe00-4093-c09f-b04ae9c6d558"
      },
      "source": [
        "(x_train, y_train), (x_test, y_test) = keras.datasets.fashion_mnist.load_data()"
      ],
      "execution_count": null,
      "outputs": [
        {
          "output_type": "stream",
          "text": [
            "Downloading data from https://storage.googleapis.com/tensorflow/tf-keras-datasets/train-labels-idx1-ubyte.gz\n",
            "32768/29515 [=================================] - 0s 0us/step\n",
            "Downloading data from https://storage.googleapis.com/tensorflow/tf-keras-datasets/train-images-idx3-ubyte.gz\n",
            "26427392/26421880 [==============================] - 0s 0us/step\n",
            "Downloading data from https://storage.googleapis.com/tensorflow/tf-keras-datasets/t10k-labels-idx1-ubyte.gz\n",
            "8192/5148 [===============================================] - 0s 0us/step\n",
            "Downloading data from https://storage.googleapis.com/tensorflow/tf-keras-datasets/t10k-images-idx3-ubyte.gz\n",
            "4423680/4422102 [==============================] - 0s 0us/step\n"
          ],
          "name": "stdout"
        }
      ]
    },
    {
      "cell_type": "code",
      "metadata": {
        "colab": {
          "base_uri": "https://localhost:8080/"
        },
        "id": "uPhFKFMqta9R",
        "outputId": "e8bd4eb2-d6c0-4082-d9fc-84486de6a3f1"
      },
      "source": [
        "x_train.shape, x_test.shape"
      ],
      "execution_count": null,
      "outputs": [
        {
          "output_type": "execute_result",
          "data": {
            "text/plain": [
              "((60000, 28, 28), (10000, 28, 28))"
            ]
          },
          "metadata": {
            "tags": []
          },
          "execution_count": 3
        }
      ]
    },
    {
      "cell_type": "code",
      "metadata": {
        "colab": {
          "base_uri": "https://localhost:8080/",
          "height": 282
        },
        "id": "h5kGFZXhzwrC",
        "outputId": "9365381d-6692-4f54-9a88-7566d938cfd2"
      },
      "source": [
        "plt.imshow(x_train[0])"
      ],
      "execution_count": null,
      "outputs": [
        {
          "output_type": "execute_result",
          "data": {
            "text/plain": [
              "<matplotlib.image.AxesImage at 0x7f8250149e90>"
            ]
          },
          "metadata": {
            "tags": []
          },
          "execution_count": 4
        },
        {
          "output_type": "display_data",
          "data": {
            "image/png": "[encoded data removed]",
            "text/plain": [
              "<Figure size 432x288 with 1 Axes>"
            ]
          },
          "metadata": {
            "tags": [],
            "needs_background": "light"
          }
        }
      ]
    },
    {
      "cell_type": "code",
      "metadata": {
        "id": "EJomvfC3te3N"
      },
      "source": [
        "x_train, x_test = x_train / 255, x_test / 255"
      ],
      "execution_count": null,
      "outputs": []
    },
    {
      "cell_type": "code",
      "metadata": {
        "id": "UaBSGiYltiLP"
      },
      "source": [
        "x_train, x_test = x_train.reshape(60000, 28, 28, 1), x_test.reshape(10000, 28, 28, 1)"
      ],
      "execution_count": null,
      "outputs": []
    },
    {
      "cell_type": "markdown",
      "metadata": {
        "id": "m7oAt5zCU8tc"
      },
      "source": [
        "# Reshape, neden?\n",
        "\n",
        "Bu bir convolutional neural network. Keras'larda, Conv2D, 4D array inputu alır. Yani, kısaca, şöyle bir şey yaptık:\n",
        "\n",
        "```\n",
        "[[[1, 2]]] -----> [[[ [1], [2] ]]]\n",
        "```"
      ]
    },
    {
      "cell_type": "code",
      "metadata": {
        "id": "JgBVdgpBtzCx"
      },
      "source": [
        "model = keras.Sequential([\n",
        "                          keras.layers.InputLayer(input_shape=(28, 28, 1)),\n",
        "                          keras.layers.Conv2D(64, (3,3), activation='relu'),\n",
        "                          keras.layers.MaxPool2D((2,2)),\n",
        "                          keras.layers.Conv2D(64, (3,3), activation='relu'),\n",
        "                          keras.layers.MaxPool2D((2,2)),\n",
        "                          keras.layers.Flatten(),\n",
        "                          keras.layers.Dense(64, activation='relu'),\n",
        "                          keras.layers.Dropout(0.1),\n",
        "                          keras.layers.Dense(10, activation='softmax')\n",
        "])"
      ],
      "execution_count": null,
      "outputs": []
    },
    {
      "cell_type": "markdown",
      "metadata": {
        "id": "cudnLSF8Ugir"
      },
      "source": [
        "# Input Layer? Bir Dakika, o da nerden çıktı?\n",
        "\n",
        "Input layer, dense layer'ının ya da flatten layerının içinde shape'i vermekle aynı şey. Sadece, ekstradan bir layer eklemiş oluyoruz. Pek bir farkı yok."
      ]
    },
    {
      "cell_type": "code",
      "metadata": {
        "id": "xAw8UaHyuqA1"
      },
      "source": [
        "model.compile(optimizer='adam', loss='sparse_categorical_crossentropy', metrics=['accuracy'])"
      ],
      "execution_count": null,
      "outputs": []
    },
    {
      "cell_type": "code",
      "metadata": {
        "colab": {
          "base_uri": "https://localhost:8080/"
        },
        "id": "VPdvEuQsuuxV",
        "outputId": "212a1d6e-c222-4326-92f0-fb94c3b8793a"
      },
      "source": [
        "model.summary()\n",
        "# keras.utils.plot_model(model)"
      ],
      "execution_count": null,
      "outputs": [
        {
          "output_type": "stream",
          "text": [
            "Model: \"sequential\"\n",
            "_________________________________________________________________\n",
            "Layer (type)                 Output Shape              Param #   \n",
            "=================================================================\n",
            "conv2d (Conv2D)              (None, 26, 26, 64)        640       \n",
            "_________________________________________________________________\n",
            "max_pooling2d (MaxPooling2D) (None, 13, 13, 64)        0         \n",
            "_________________________________________________________________\n",
            "conv2d_1 (Conv2D)            (None, 11, 11, 64)        36928     \n",
            "_________________________________________________________________\n",
            "max_pooling2d_1 (MaxPooling2 (None, 5, 5, 64)          0         \n",
            "_________________________________________________________________\n",
            "flatten (Flatten)            (None, 1600)              0         \n",
            "_________________________________________________________________\n",
            "dense (Dense)                (None, 64)                102464    \n",
            "_________________________________________________________________\n",
            "dropout (Dropout)            (None, 64)                0         \n",
            "_________________________________________________________________\n",
            "dense_1 (Dense)              (None, 10)                650       \n",
            "=================================================================\n",
            "Total params: 140,682\n",
            "Trainable params: 140,682\n",
            "Non-trainable params: 0\n",
            "_________________________________________________________________\n"
          ],
          "name": "stdout"
        }
      ]
    },
    {
      "cell_type": "code",
      "metadata": {
        "colab": {
          "base_uri": "https://localhost:8080/"
        },
        "id": "33UJJzi8u1Sh",
        "outputId": "0c49fc3d-04ea-4a83-b6eb-b6659602dab8"
      },
      "source": [
        "model.fit(x_train, y_train, epochs=5, batch_size=64)"
      ],
      "execution_count": null,
      "outputs": [
        {
          "output_type": "stream",
          "text": [
            "Epoch 1/5\n",
            "938/938 [==============================] - 35s 4ms/step - loss: 0.5254 - accuracy: 0.8081\n",
            "Epoch 2/5\n",
            "938/938 [==============================] - 4s 4ms/step - loss: 0.3441 - accuracy: 0.8749\n",
            "Epoch 3/5\n",
            "938/938 [==============================] - 4s 4ms/step - loss: 0.2960 - accuracy: 0.8918\n",
            "Epoch 4/5\n",
            "938/938 [==============================] - 4s 4ms/step - loss: 0.2670 - accuracy: 0.9012\n",
            "Epoch 5/5\n",
            "938/938 [==============================] - 4s 4ms/step - loss: 0.2410 - accuracy: 0.9105\n"
          ],
          "name": "stdout"
        },
        {
          "output_type": "execute_result",
          "data": {
            "text/plain": [
              "<tensorflow.python.keras.callbacks.History at 0x7f8240142bd0>"
            ]
          },
          "metadata": {
            "tags": []
          },
          "execution_count": 10
        }
      ]
    },
    {
      "cell_type": "markdown",
      "metadata": {
        "id": "jz43fZz6VgU-"
      },
      "source": [
        "## Batch Size?\n",
        "\n",
        "Batch size, kısacası, yapay zekanın veriyi gruplandırıp tekrar beslemesi. Örneğin 1000 veriyi 100 batch size'da beslersek, 100'lü parçalara bölüp ayrı ayrı eğitilecek. Bu eğitimi hızlandırır."
      ]
    },
    {
      "cell_type": "code",
      "metadata": {
        "colab": {
          "base_uri": "https://localhost:8080/"
        },
        "id": "iEepo0dpwzbt",
        "outputId": "ceed90c2-6a2f-48d1-c164-8290a5c6b34e"
      },
      "source": [
        "model.evaluate(x_test, y_test)"
      ],
      "execution_count": null,
      "outputs": [
        {
          "output_type": "stream",
          "text": [
            "313/313 [==============================] - 1s 2ms/step - loss: 0.2714 - accuracy: 0.9029\n"
          ],
          "name": "stdout"
        },
        {
          "output_type": "execute_result",
          "data": {
            "text/plain": [
              "[0.2713847756385803, 0.902899980545044]"
            ]
          },
          "metadata": {
            "tags": []
          },
          "execution_count": 11
        }
      ]
    }
  ]
}