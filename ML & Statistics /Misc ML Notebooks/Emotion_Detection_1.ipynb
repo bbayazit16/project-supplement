{
  "nbformat": 4,
  "nbformat_minor": 0,
  "metadata": {
    "colab": {
      "name": "Emotion Detection - 1.ipynb",
      "provenance": [],
      "collapsed_sections": []
    },
    "kernelspec": {
      "display_name": "Python 3",
      "name": "python3"
    },
    "language_info": {
      "name": "python"
    },
    "accelerator": "GPU"
  },
  "cells": [
    {
      "cell_type": "code",
      "metadata": {
        "id": "LFET84SDK8V2"
      },
      "source": [
        "from sklearn.model_selection import train_test_split\n",
        "import matplotlib.pyplot as plt\n",
        "from tensorflow import keras\n",
        "import seaborn as sns\n",
        "import numpy as np\n",
        "import cv2\n",
        "import os\n",
        "# import the required modules and functions"
      ],
      "execution_count": 16,
      "outputs": []
    },
    {
      "cell_type": "code",
      "metadata": {
        "id": "3IK-XEmUMM__"
      },
      "source": [
        "# read images from every folders, label them, and return them in numpy arrayss\n",
        "def load_data(superpath: str) -> tuple: # [ndarray, ndarray]\n",
        "  imgs, labels, label = [], [], 0\n",
        "  for folder in os.listdir(superpath):\n",
        "    if folder is not None and os.path.isdir(os.path.join(superpath, folder)):\n",
        "      for image in os.listdir(os.path.join(superpath, folder)): \n",
        "        img = cv2.imread(os.path.join(superpath, folder, image), 0) # 0 indicates that the image is read in greyscale mode \n",
        "        if img is not None: imgs.append(img), labels.append(label) # check if the image is corrupted\n",
        "      print(f\"{folder}: {label}\")\n",
        "      label += 1\n",
        "  return np.array(imgs), np.array(labels)"
      ],
      "execution_count": 17,
      "outputs": []
    },
    {
      "cell_type": "code",
      "metadata": {
        "id": "8F3u8l6DWpb0"
      },
      "source": [
        "def process_data(x_train: np.ndarray, y_train: np.ndarray) -> tuple:\n",
        "  x_train, x_test, y_train, y_test = train_test_split(x_train, y_train, test_size=0.1)\n",
        "  x_test, x_val, y_test, y_val = train_test_split(x_test, y_test, test_size=0.2)\n",
        "  x_train, x_test, x_val = x_train.reshape(25838, 48, 48, 1), x_test.reshape(2296, 48, 48, 1), x_val.reshape(575, 48, 48, 1)\n",
        "  x_train, x_test, x_val = x_train/255, x_test/255, x_val/255\n",
        "  y_train, y_test, y_val = keras.utils.to_categorical(y_train), keras.utils.to_categorical(y_test), keras.utils.to_categorical(y_val)\n",
        "  return x_train, x_test, y_train, y_test, x_val, y_val\n",
        "  # Splits the data into validation, test, and training set. Divides images by 255 to maximize \n",
        "  # performance and binary-matrixizes(is that a word?) to the labels"
      ],
      "execution_count": 18,
      "outputs": []
    },
    {
      "cell_type": "code",
      "metadata": {
        "colab": {
          "base_uri": "https://localhost:8080/"
        },
        "id": "RboD0OIEZzVX",
        "outputId": "fd153013-8006-40de-c042-f39d41db0d98"
      },
      "source": [
        "x_train, y_train = load_data('/content/emotiondetection')"
      ],
      "execution_count": 19,
      "outputs": [
        {
          "output_type": "stream",
          "text": [
            "sad: 0\n",
            "disgusted: 1\n",
            "surprised: 2\n",
            "fearful: 3\n",
            "neutral: 4\n",
            "angry: 5\n",
            "happy: 6\n"
          ],
          "name": "stdout"
        }
      ]
    },
    {
      "cell_type": "code",
      "metadata": {
        "id": "2vKn1r8ANhi8"
      },
      "source": [
        "x_train, x_test, y_train, y_test, x_val, y_val = process_data(x_train, y_train)"
      ],
      "execution_count": 20,
      "outputs": []
    },
    {
      "cell_type": "code",
      "metadata": {
        "colab": {
          "base_uri": "https://localhost:8080/"
        },
        "id": "BZHWo1JIYZK4",
        "outputId": "477ce742-478d-4297-eadb-a4c0295da4c2"
      },
      "source": [
        "print(x_train.shape, x_test.shape, x_val.shape)\n",
        "print(y_train.shape, y_test.shape, y_val.shape)"
      ],
      "execution_count": 21,
      "outputs": [
        {
          "output_type": "stream",
          "text": [
            "(25838, 48, 48, 1) (2296, 48, 48, 1) (575, 48, 48, 1)\n",
            "(25838, 7) (2296, 7) (575, 7)\n"
          ],
          "name": "stdout"
        }
      ]
    },
    {
      "cell_type": "code",
      "metadata": {
        "id": "SQ6gHT2vZ76H"
      },
      "source": [
        "model = keras.Sequential([\n",
        "                    \n",
        "                    keras.layers.InputLayer(input_shape=(48, 48, 1)),\n",
        "                    keras.layers.Conv2D(128, (5,5), padding='same', kernel_initializer='he_uniform'),\n",
        "                    keras.layers.MaxPool2D((2,2), padding='same'),\n",
        "                    keras.layers.BatchNormalization(),\n",
        "                    keras.layers.Activation('relu'),\n",
        "                    keras.layers.Dropout(0.5),\n",
        "\n",
        "                    keras.layers.Conv2D(128, (5,5), padding='same', kernel_initializer='he_uniform'),\n",
        "                    keras.layers.MaxPool2D((2,2), padding='same'),\n",
        "                    keras.layers.BatchNormalization(),\n",
        "                    keras.layers.Activation('relu'),\n",
        "                    keras.layers.Dropout(0.5), \n",
        "\n",
        "                    keras.layers.Conv2D(128, (3,3)),\n",
        "                    keras.layers.BatchNormalization(),\n",
        "                    keras.layers.Activation('relu'),\n",
        "                    keras.layers.Dropout(0.5),\n",
        "\n",
        "                    # keras.layers.Conv2D(128, (3,3)),\n",
        "                    # keras.layers.BatchNormalization(),\n",
        "                    # keras.layers.Activation('relu'),\n",
        "                    # keras.layers.Dropout(0.5),                    \n",
        "\n",
        "                    keras.layers.Flatten(),\n",
        "\n",
        "                    keras.layers.Dense(64),\n",
        "                    keras.layers.BatchNormalization(),\n",
        "                    keras.layers.Activation('relu'),\n",
        "                    keras.layers.Dropout(0.5),\n",
        "\n",
        "                    keras.layers.Dense(7),\n",
        "                    keras.layers.Activation('softmax') \n",
        "\n",
        "])"
      ],
      "execution_count": 22,
      "outputs": []
    },
    {
      "cell_type": "code",
      "metadata": {
        "colab": {
          "base_uri": "https://localhost:8080/"
        },
        "id": "xUFu9SgTq6IZ",
        "outputId": "77fdc12e-3cfd-4632-cf55-3cd6878fa635"
      },
      "source": [
        "model.summary()"
      ],
      "execution_count": 23,
      "outputs": [
        {
          "output_type": "stream",
          "text": [
            "Model: \"sequential_1\"\n",
            "_________________________________________________________________\n",
            "Layer (type)                 Output Shape              Param #   \n",
            "=================================================================\n",
            "conv2d_3 (Conv2D)            (None, 48, 48, 128)       3328      \n",
            "_________________________________________________________________\n",
            "max_pooling2d_2 (MaxPooling2 (None, 24, 24, 128)       0         \n",
            "_________________________________________________________________\n",
            "batch_normalization_4 (Batch (None, 24, 24, 128)       512       \n",
            "_________________________________________________________________\n",
            "activation_5 (Activation)    (None, 24, 24, 128)       0         \n",
            "_________________________________________________________________\n",
            "dropout_4 (Dropout)          (None, 24, 24, 128)       0         \n",
            "_________________________________________________________________\n",
            "conv2d_4 (Conv2D)            (None, 24, 24, 128)       409728    \n",
            "_________________________________________________________________\n",
            "max_pooling2d_3 (MaxPooling2 (None, 12, 12, 128)       0         \n",
            "_________________________________________________________________\n",
            "batch_normalization_5 (Batch (None, 12, 12, 128)       512       \n",
            "_________________________________________________________________\n",
            "activation_6 (Activation)    (None, 12, 12, 128)       0         \n",
            "_________________________________________________________________\n",
            "dropout_5 (Dropout)          (None, 12, 12, 128)       0         \n",
            "_________________________________________________________________\n",
            "conv2d_5 (Conv2D)            (None, 10, 10, 128)       147584    \n",
            "_________________________________________________________________\n",
            "batch_normalization_6 (Batch (None, 10, 10, 128)       512       \n",
            "_________________________________________________________________\n",
            "activation_7 (Activation)    (None, 10, 10, 128)       0         \n",
            "_________________________________________________________________\n",
            "dropout_6 (Dropout)          (None, 10, 10, 128)       0         \n",
            "_________________________________________________________________\n",
            "flatten_1 (Flatten)          (None, 12800)             0         \n",
            "_________________________________________________________________\n",
            "dense_2 (Dense)              (None, 64)                819264    \n",
            "_________________________________________________________________\n",
            "batch_normalization_7 (Batch (None, 64)                256       \n",
            "_________________________________________________________________\n",
            "activation_8 (Activation)    (None, 64)                0         \n",
            "_________________________________________________________________\n",
            "dropout_7 (Dropout)          (None, 64)                0         \n",
            "_________________________________________________________________\n",
            "dense_3 (Dense)              (None, 7)                 455       \n",
            "_________________________________________________________________\n",
            "activation_9 (Activation)    (None, 7)                 0         \n",
            "=================================================================\n",
            "Total params: 1,382,151\n",
            "Trainable params: 1,381,255\n",
            "Non-trainable params: 896\n",
            "_________________________________________________________________\n"
          ],
          "name": "stdout"
        }
      ]
    },
    {
      "cell_type": "code",
      "metadata": {
        "id": "mjvJLJoFpO9e"
      },
      "source": [
        "model.compile('Adam', 'categorical_crossentropy', metrics=['accuracy'])"
      ],
      "execution_count": 24,
      "outputs": []
    },
    {
      "cell_type": "code",
      "metadata": {
        "id": "1d56ryRP1KH0"
      },
      "source": [
        "class special_callback(keras.callbacks.Callback):\n",
        "  def on_epoch_end(self, epoch, logs={}):\n",
        "    if logs.get(\"val_loss\") <= 1: \n",
        "      print(\"Stopping training: validation loss <= 1\")\n",
        "      self.model.stop_training = True\n",
        "\n",
        "stopper = special_callback()\n",
        "# callback to stop training if validation accuracy is over 60%"
      ],
      "execution_count": 25,
      "outputs": []
    },
    {
      "cell_type": "code",
      "metadata": {
        "colab": {
          "base_uri": "https://localhost:8080/"
        },
        "id": "DyBsFI41pVDO",
        "outputId": "e175ec5f-5542-4177-d547-3fbc6a92c76d"
      },
      "source": [
        "data = model.fit(x_train, y_train, epochs=60, validation_data=(x_val, y_val), callbacks=[stopper])"
      ],
      "execution_count": 26,
      "outputs": [
        {
          "output_type": "stream",
          "text": [
            "Epoch 1/60\n",
            "808/808 [==============================] - 10s 11ms/step - loss: 1.7809 - accuracy: 0.3169 - val_loss: 1.4976 - val_accuracy: 0.4174\n",
            "Epoch 2/60\n",
            "808/808 [==============================] - 9s 11ms/step - loss: 1.4759 - accuracy: 0.4309 - val_loss: 1.4729 - val_accuracy: 0.3948\n",
            "Epoch 3/60\n",
            "808/808 [==============================] - 9s 11ms/step - loss: 1.3947 - accuracy: 0.4674 - val_loss: 1.3298 - val_accuracy: 0.4765\n",
            "Epoch 4/60\n",
            "808/808 [==============================] - 9s 11ms/step - loss: 1.3408 - accuracy: 0.4902 - val_loss: 1.2812 - val_accuracy: 0.4974\n",
            "Epoch 5/60\n",
            "808/808 [==============================] - 9s 11ms/step - loss: 1.3047 - accuracy: 0.5085 - val_loss: 1.2652 - val_accuracy: 0.4939\n",
            "Epoch 6/60\n",
            "808/808 [==============================] - 9s 11ms/step - loss: 1.2701 - accuracy: 0.5235 - val_loss: 1.2222 - val_accuracy: 0.5409\n",
            "Epoch 7/60\n",
            "808/808 [==============================] - 9s 11ms/step - loss: 1.2422 - accuracy: 0.5300 - val_loss: 1.3971 - val_accuracy: 0.4643\n",
            "Epoch 8/60\n",
            "808/808 [==============================] - 9s 11ms/step - loss: 1.2244 - accuracy: 0.5391 - val_loss: 1.1645 - val_accuracy: 0.5391\n",
            "Epoch 9/60\n",
            "808/808 [==============================] - 9s 11ms/step - loss: 1.2083 - accuracy: 0.5444 - val_loss: 1.1972 - val_accuracy: 0.5287\n",
            "Epoch 10/60\n",
            "808/808 [==============================] - 9s 11ms/step - loss: 1.1923 - accuracy: 0.5475 - val_loss: 1.1613 - val_accuracy: 0.5774\n",
            "Epoch 11/60\n",
            "808/808 [==============================] - 9s 11ms/step - loss: 1.1619 - accuracy: 0.5580 - val_loss: 1.2526 - val_accuracy: 0.5130\n",
            "Epoch 12/60\n",
            "808/808 [==============================] - 9s 11ms/step - loss: 1.1495 - accuracy: 0.5668 - val_loss: 1.1214 - val_accuracy: 0.5652\n",
            "Epoch 13/60\n",
            "808/808 [==============================] - 9s 11ms/step - loss: 1.1375 - accuracy: 0.5707 - val_loss: 1.0991 - val_accuracy: 0.5896\n",
            "Epoch 14/60\n",
            "808/808 [==============================] - 9s 11ms/step - loss: 1.1239 - accuracy: 0.5733 - val_loss: 1.1001 - val_accuracy: 0.5600\n",
            "Epoch 15/60\n",
            "808/808 [==============================] - 9s 11ms/step - loss: 1.1060 - accuracy: 0.5832 - val_loss: 1.0959 - val_accuracy: 0.5670\n",
            "Epoch 16/60\n",
            "808/808 [==============================] - 9s 11ms/step - loss: 1.1005 - accuracy: 0.5856 - val_loss: 1.1146 - val_accuracy: 0.5565\n",
            "Epoch 17/60\n",
            "808/808 [==============================] - 9s 11ms/step - loss: 1.0781 - accuracy: 0.5965 - val_loss: 1.1432 - val_accuracy: 0.5530\n",
            "Epoch 18/60\n",
            "808/808 [==============================] - 9s 11ms/step - loss: 1.0732 - accuracy: 0.5971 - val_loss: 1.0629 - val_accuracy: 0.5861\n",
            "Epoch 19/60\n",
            "808/808 [==============================] - 9s 11ms/step - loss: 1.0587 - accuracy: 0.5982 - val_loss: 1.0650 - val_accuracy: 0.5843\n",
            "Epoch 20/60\n",
            "808/808 [==============================] - 9s 11ms/step - loss: 1.0502 - accuracy: 0.6049 - val_loss: 1.0848 - val_accuracy: 0.5652\n",
            "Epoch 21/60\n",
            "808/808 [==============================] - 9s 11ms/step - loss: 1.0371 - accuracy: 0.6088 - val_loss: 1.0771 - val_accuracy: 0.5948\n",
            "Epoch 22/60\n",
            "808/808 [==============================] - 9s 11ms/step - loss: 1.0202 - accuracy: 0.6166 - val_loss: 1.1023 - val_accuracy: 0.5687\n",
            "Epoch 23/60\n",
            "808/808 [==============================] - 9s 11ms/step - loss: 1.0230 - accuracy: 0.6151 - val_loss: 1.0394 - val_accuracy: 0.6035\n",
            "Epoch 24/60\n",
            "808/808 [==============================] - 9s 11ms/step - loss: 1.0114 - accuracy: 0.6217 - val_loss: 1.0596 - val_accuracy: 0.5809\n",
            "Epoch 25/60\n",
            "808/808 [==============================] - 9s 11ms/step - loss: 1.0050 - accuracy: 0.6219 - val_loss: 1.1548 - val_accuracy: 0.5565\n",
            "Epoch 26/60\n",
            "808/808 [==============================] - 9s 11ms/step - loss: 0.9972 - accuracy: 0.6278 - val_loss: 1.0904 - val_accuracy: 0.5687\n",
            "Epoch 27/60\n",
            "808/808 [==============================] - 9s 11ms/step - loss: 0.9755 - accuracy: 0.6332 - val_loss: 1.1511 - val_accuracy: 0.5496\n",
            "Epoch 28/60\n",
            "808/808 [==============================] - 9s 11ms/step - loss: 0.9741 - accuracy: 0.6366 - val_loss: 1.0691 - val_accuracy: 0.5757\n",
            "Epoch 29/60\n",
            "808/808 [==============================] - 9s 11ms/step - loss: 0.9737 - accuracy: 0.6333 - val_loss: 1.0275 - val_accuracy: 0.6209\n",
            "Epoch 30/60\n",
            "808/808 [==============================] - 9s 11ms/step - loss: 0.9669 - accuracy: 0.6379 - val_loss: 1.0427 - val_accuracy: 0.5878\n",
            "Epoch 31/60\n",
            "808/808 [==============================] - 9s 11ms/step - loss: 0.9544 - accuracy: 0.6428 - val_loss: 1.0751 - val_accuracy: 0.5704\n",
            "Epoch 32/60\n",
            "808/808 [==============================] - 9s 11ms/step - loss: 0.9572 - accuracy: 0.6422 - val_loss: 1.0188 - val_accuracy: 0.5913\n",
            "Epoch 33/60\n",
            "808/808 [==============================] - 9s 11ms/step - loss: 0.9449 - accuracy: 0.6446 - val_loss: 1.0102 - val_accuracy: 0.6174\n",
            "Epoch 34/60\n",
            "808/808 [==============================] - 9s 11ms/step - loss: 0.9429 - accuracy: 0.6457 - val_loss: 1.0325 - val_accuracy: 0.6000\n",
            "Epoch 35/60\n",
            "808/808 [==============================] - 9s 11ms/step - loss: 0.9311 - accuracy: 0.6484 - val_loss: 1.0224 - val_accuracy: 0.6226\n",
            "Epoch 36/60\n",
            "808/808 [==============================] - 9s 11ms/step - loss: 0.9299 - accuracy: 0.6521 - val_loss: 1.0368 - val_accuracy: 0.6035\n",
            "Epoch 37/60\n",
            "808/808 [==============================] - 9s 11ms/step - loss: 0.9219 - accuracy: 0.6507 - val_loss: 0.9804 - val_accuracy: 0.6157\n",
            "Stopping training: validation loss <= 1\n"
          ],
          "name": "stdout"
        }
      ]
    },
    {
      "cell_type": "code",
      "metadata": {
        "id": "UtcrK05QqafQ",
        "colab": {
          "base_uri": "https://localhost:8080/"
        },
        "outputId": "ad410d89-d5b8-4f13-a0c5-d605e2554d89"
      },
      "source": [
        "model.evaluate(x_test, y_test)"
      ],
      "execution_count": 30,
      "outputs": [
        {
          "output_type": "stream",
          "text": [
            "72/72 [==============================] - 0s 5ms/step - loss: 1.0296 - accuracy: 0.6206\n"
          ],
          "name": "stdout"
        },
        {
          "output_type": "execute_result",
          "data": {
            "text/plain": [
              "[1.029565453529358, 0.6206446290016174]"
            ]
          },
          "metadata": {},
          "execution_count": 30
        }
      ]
    },
    {
      "cell_type": "code",
      "metadata": {
        "id": "iXtp-1RbMJtM",
        "colab": {
          "base_uri": "https://localhost:8080/",
          "height": 318
        },
        "outputId": "8130fab1-850b-4a8a-a119-286588dca37c"
      },
      "source": [
        "sns.set()\n",
        "plt.yticks(np.arange(0, 2, 0.1))\n",
        "plt.xticks(np.arange(0, 40, 4))\n",
        "plt.xlabel(\"Epochs\")\n",
        "plt.title(\"Model Loss\")\n",
        "plt.plot(data.history['loss'])\n",
        "plt.plot(data.history['val_loss'])\n",
        "plt.legend(['Train', 'Validation'], loc='upper right')"
      ],
      "execution_count": 39,
      "outputs": [
        {
          "output_type": "execute_result",
          "data": {
            "text/plain": [
              "<matplotlib.legend.Legend at 0x7fab133758d0>"
            ]
          },
          "metadata": {},
          "execution_count": 39
        },
        {
          "output_type": "display_data",
          "data": {
            "image/png": "[encoded data removed]",
            "text/plain": [
              "<Figure size 432x288 with 1 Axes>"
            ]
          },
          "metadata": {}
        }
      ]
    },
    {
      "cell_type": "code",
      "metadata": {
        "id": "GEr96wfxMY6D",
        "colab": {
          "base_uri": "https://localhost:8080/",
          "height": 318
        },
        "outputId": "4e9dbefc-0b0c-4e77-a1c0-192bc13c04f5"
      },
      "source": [
        "plt.xticks(np.arange(0, 40, 4))\n",
        "plt.yticks(np.arange(0.3, 1, 0.05))\n",
        "plt.xlabel(\"Epochs\")\n",
        "plt.title(\"Model Accuraccy\")\n",
        "plt.plot(data.history['accuracy'])\n",
        "plt.plot(data.history['val_accuracy'])\n",
        "plt.legend(['Train', 'Validation'], loc='lower right')"
      ],
      "execution_count": 38,
      "outputs": [
        {
          "output_type": "execute_result",
          "data": {
            "text/plain": [
              "<matplotlib.legend.Legend at 0x7fab135a9c90>"
            ]
          },
          "metadata": {},
          "execution_count": 38
        },
        {
          "output_type": "display_data",
          "data": {
            "image/png": "[encoded data removed]",
            "text/plain": [
              "<Figure size 432x288 with 1 Axes>"
            ]
          },
          "metadata": {}
        }
      ]
    },
    {
      "cell_type": "code",
      "metadata": {
        "id": "GFgyOd-Cr0Vy"
      },
      "source": [
        "model.save(\"emotion_detection_one.h5\")"
      ],
      "execution_count": 33,
      "outputs": []
    }
  ]
}