{
  "nbformat": 4,
  "nbformat_minor": 0,
  "metadata": {
    "colab": {
      "name": "MNIST - 1.ipynb",
      "provenance": [],
      "collapsed_sections": []
    },
    "kernelspec": {
      "display_name": "Python 3",
      "name": "python3"
    },
    "language_info": {
      "name": "python"
    },
    "accelerator": "GPU"
  },
  "cells": [
    {
      "cell_type": "code",
      "metadata": {
        "id": "iNtCpJBWw01I"
      },
      "source": [
        "from sklearn.model_selection import train_test_split\n",
        "import matplotlib.pyplot as plt\n",
        "from tensorflow import keras\n",
        "import seaborn as sns\n",
        "import numpy as np\n",
        "%matplotlib inline\n",
        "# import the required modules"
      ],
      "execution_count": null,
      "outputs": []
    },
    {
      "cell_type": "code",
      "metadata": {
        "id": "vqaR4QFDx5dx"
      },
      "source": [
        "(x_train, y_train), (x_test, y_test) = keras.datasets.mnist.load_data()\n",
        "# load the data"
      ],
      "execution_count": null,
      "outputs": []
    },
    {
      "cell_type": "code",
      "metadata": {
        "id": "453uOXcPx_BN"
      },
      "source": [
        "x_test, x_val, y_test, y_val = train_test_split(x_test, y_test, test_size=0.25)\n",
        "x_train, x_test, x_val = x_train.reshape(60000, 28, 28, 1) / 255, x_test.reshape(7500, 28, 28, 1) / 255, x_val.reshape(2500, 28, 28, 1) / 255\n",
        "y_train, y_test, y_val = keras.utils.to_categorical(y_train), keras.utils.to_categorical(y_test), keras.utils.to_categorical(y_val)\n",
        "# convert labels to binary matrix and reshape images to 4D array for convolution layers"
      ],
      "execution_count": null,
      "outputs": []
    },
    {
      "cell_type": "code",
      "metadata": {
        "id": "9IV3z5IqySAo"
      },
      "source": [
        "model = keras.Sequential([\n",
        "                    \n",
        "                    keras.layers.InputLayer(input_shape=(28, 28, 1)),\n",
        "\n",
        "                    keras.layers.Conv2D(128, (3,3), padding='same'),\n",
        "                    keras.layers.MaxPool2D((2,2), padding='same'),\n",
        "                    keras.layers.BatchNormalization(),\n",
        "                    keras.layers.Activation('relu'),\n",
        "                    keras.layers.Dropout(0.5),\n",
        "\n",
        "                    keras.layers.Conv2D(128, (3,3), padding='same'),\n",
        "                    keras.layers.MaxPool2D((2,2), padding='same'),\n",
        "                    keras.layers.BatchNormalization(),\n",
        "                    keras.layers.Activation('relu'),\n",
        "                    keras.layers.Dropout(0.5),\n",
        "\n",
        "                    keras.layers.Conv2D(64, (3,3), padding='valid', kernel_initializer='he_uniform'),\n",
        "                    keras.layers.BatchNormalization(),\n",
        "                    keras.layers.Activation('relu'),\n",
        "                    keras.layers.Dropout(0.5),\n",
        "\n",
        "                    keras.layers.Flatten(),\n",
        "\n",
        "                    keras.layers.Dense(128),\n",
        "                    keras.layers.BatchNormalization(),\n",
        "                    keras.layers.Activation('relu'),\n",
        "                    keras.layers.Dropout(0.5),\n",
        "\n",
        "                    keras.layers.Dense(10),\n",
        "                    keras.layers.Activation('softmax')\n",
        "\n",
        "])"
      ],
      "execution_count": null,
      "outputs": []
    },
    {
      "cell_type": "code",
      "metadata": {
        "id": "mIlAsD70zNY6"
      },
      "source": [
        "model.compile('adam', 'categorical_crossentropy', metrics=['accuracy'])"
      ],
      "execution_count": null,
      "outputs": []
    },
    {
      "cell_type": "code",
      "metadata": {
        "id": "KKqmCvXF06Bq"
      },
      "source": [
        "class special_callback(keras.callbacks.Callback):\n",
        "  def on_epoch_end(self, epoch, logs={}):\n",
        "    if logs.get('val_loss') < 0.015: \n",
        "      self.model.stop_training = True\n",
        "      print(\"Stopping model training...\")\n",
        "stopper = special_callback()\n",
        "# a callback to stop training if the validation accuarcy reaches over 99.5%"
      ],
      "execution_count": null,
      "outputs": []
    },
    {
      "cell_type": "code",
      "metadata": {
        "colab": {
          "base_uri": "https://localhost:8080/"
        },
        "id": "9MfQqvYezQ4s",
        "outputId": "e7c50fe9-9451-4858-a0c7-b5317ea1e11c"
      },
      "source": [
        "history = model.fit(x_train, y_train, epochs=30, batch_size=64, validation_data=(x_val, y_val), callbacks=[stopper])"
      ],
      "execution_count": null,
      "outputs": [
        {
          "output_type": "stream",
          "text": [
            "Epoch 1/30\n",
            "938/938 [==============================] - 9s 9ms/step - loss: 0.3461 - accuracy: 0.8957 - val_loss: 0.0587 - val_accuracy: 0.9820\n",
            "Epoch 2/30\n",
            "938/938 [==============================] - 8s 9ms/step - loss: 0.1134 - accuracy: 0.9661 - val_loss: 0.0423 - val_accuracy: 0.9876\n",
            "Epoch 3/30\n",
            "938/938 [==============================] - 8s 8ms/step - loss: 0.0914 - accuracy: 0.9721 - val_loss: 0.0323 - val_accuracy: 0.9904\n",
            "Epoch 4/30\n",
            "938/938 [==============================] - 8s 8ms/step - loss: 0.0771 - accuracy: 0.9775 - val_loss: 0.0358 - val_accuracy: 0.9896\n",
            "Epoch 5/30\n",
            "938/938 [==============================] - 8s 8ms/step - loss: 0.0705 - accuracy: 0.9786 - val_loss: 0.0286 - val_accuracy: 0.9916\n",
            "Epoch 6/30\n",
            "938/938 [==============================] - 8s 8ms/step - loss: 0.0640 - accuracy: 0.9808 - val_loss: 0.0322 - val_accuracy: 0.9900\n",
            "Epoch 7/30\n",
            "938/938 [==============================] - 8s 8ms/step - loss: 0.0593 - accuracy: 0.9819 - val_loss: 0.0208 - val_accuracy: 0.9924\n",
            "Epoch 8/30\n",
            "938/938 [==============================] - 8s 8ms/step - loss: 0.0569 - accuracy: 0.9832 - val_loss: 0.0230 - val_accuracy: 0.9936\n",
            "Epoch 9/30\n",
            "938/938 [==============================] - 8s 8ms/step - loss: 0.0517 - accuracy: 0.9839 - val_loss: 0.0238 - val_accuracy: 0.9940\n",
            "Epoch 10/30\n",
            "938/938 [==============================] - 8s 9ms/step - loss: 0.0513 - accuracy: 0.9847 - val_loss: 0.0263 - val_accuracy: 0.9920\n",
            "Epoch 11/30\n",
            "938/938 [==============================] - 8s 8ms/step - loss: 0.0485 - accuracy: 0.9855 - val_loss: 0.0227 - val_accuracy: 0.9940\n",
            "Epoch 12/30\n",
            "938/938 [==============================] - 8s 8ms/step - loss: 0.0456 - accuracy: 0.9862 - val_loss: 0.0215 - val_accuracy: 0.9928\n",
            "Epoch 13/30\n",
            "938/938 [==============================] - 8s 8ms/step - loss: 0.0465 - accuracy: 0.9858 - val_loss: 0.0241 - val_accuracy: 0.9936\n",
            "Epoch 14/30\n",
            "938/938 [==============================] - 8s 8ms/step - loss: 0.0423 - accuracy: 0.9869 - val_loss: 0.0277 - val_accuracy: 0.9940\n",
            "Epoch 15/30\n",
            "938/938 [==============================] - 8s 8ms/step - loss: 0.0411 - accuracy: 0.9876 - val_loss: 0.0235 - val_accuracy: 0.9936\n",
            "Epoch 16/30\n",
            "938/938 [==============================] - 8s 8ms/step - loss: 0.0415 - accuracy: 0.9870 - val_loss: 0.0232 - val_accuracy: 0.9940\n",
            "Epoch 17/30\n",
            "938/938 [==============================] - 8s 8ms/step - loss: 0.0402 - accuracy: 0.9873 - val_loss: 0.0225 - val_accuracy: 0.9936\n",
            "Epoch 18/30\n",
            "938/938 [==============================] - 8s 8ms/step - loss: 0.0405 - accuracy: 0.9875 - val_loss: 0.0231 - val_accuracy: 0.9936\n",
            "Epoch 19/30\n",
            "938/938 [==============================] - 8s 8ms/step - loss: 0.0393 - accuracy: 0.9888 - val_loss: 0.0226 - val_accuracy: 0.9936\n",
            "Epoch 20/30\n",
            "938/938 [==============================] - 8s 8ms/step - loss: 0.0357 - accuracy: 0.9887 - val_loss: 0.0255 - val_accuracy: 0.9936\n",
            "Epoch 21/30\n",
            "938/938 [==============================] - 8s 8ms/step - loss: 0.0360 - accuracy: 0.9888 - val_loss: 0.0219 - val_accuracy: 0.9940\n",
            "Epoch 22/30\n",
            "938/938 [==============================] - 8s 8ms/step - loss: 0.0340 - accuracy: 0.9898 - val_loss: 0.0271 - val_accuracy: 0.9936\n",
            "Epoch 23/30\n",
            "938/938 [==============================] - 8s 9ms/step - loss: 0.0351 - accuracy: 0.9892 - val_loss: 0.0226 - val_accuracy: 0.9948\n",
            "Epoch 24/30\n",
            "938/938 [==============================] - 8s 8ms/step - loss: 0.0345 - accuracy: 0.9891 - val_loss: 0.0264 - val_accuracy: 0.9936\n",
            "Epoch 25/30\n",
            "938/938 [==============================] - 8s 8ms/step - loss: 0.0331 - accuracy: 0.9894 - val_loss: 0.0225 - val_accuracy: 0.9948\n",
            "Epoch 26/30\n",
            "938/938 [==============================] - 8s 8ms/step - loss: 0.0345 - accuracy: 0.9896 - val_loss: 0.0273 - val_accuracy: 0.9932\n",
            "Epoch 27/30\n",
            "938/938 [==============================] - 8s 9ms/step - loss: 0.0325 - accuracy: 0.9899 - val_loss: 0.0260 - val_accuracy: 0.9936\n",
            "Epoch 28/30\n",
            "938/938 [==============================] - 8s 8ms/step - loss: 0.0314 - accuracy: 0.9903 - val_loss: 0.0266 - val_accuracy: 0.9932\n",
            "Epoch 29/30\n",
            "938/938 [==============================] - 8s 9ms/step - loss: 0.0336 - accuracy: 0.9896 - val_loss: 0.0225 - val_accuracy: 0.9940\n",
            "Epoch 30/30\n",
            "938/938 [==============================] - 8s 8ms/step - loss: 0.0314 - accuracy: 0.9901 - val_loss: 0.0215 - val_accuracy: 0.9940\n"
          ],
          "name": "stdout"
        }
      ]
    },
    {
      "cell_type": "code",
      "metadata": {
        "id": "b-OVSx3p0SAc",
        "colab": {
          "base_uri": "https://localhost:8080/"
        },
        "outputId": "139a9e56-274d-4b35-cd9b-5b80f3b165dc"
      },
      "source": [
        "# callback wasn't executed, but we have still managed to achieve a good accuracy\n",
        "\n",
        "model.evaluate(x_test, y_test)\n",
        "# evaluate the model with test data"
      ],
      "execution_count": 34,
      "outputs": [
        {
          "output_type": "stream",
          "text": [
            "235/235 [==============================] - 1s 4ms/step - loss: 0.0107 - accuracy: 0.9959\n"
          ],
          "name": "stdout"
        },
        {
          "output_type": "execute_result",
          "data": {
            "text/plain": [
              "[0.010688514448702335, 0.9958666563034058]"
            ]
          },
          "metadata": {},
          "execution_count": 34
        }
      ]
    },
    {
      "cell_type": "code",
      "metadata": {
        "id": "dctXidkM6U00",
        "colab": {
          "base_uri": "https://localhost:8080/",
          "height": 318
        },
        "outputId": "9776796d-f587-4cef-9c9a-0e4341b42820"
      },
      "source": [
        "sns.set()\n",
        "plt.yticks(np.arange(0, 0.35, 0.025))\n",
        "plt.xticks(np.arange(0, 30, 2))\n",
        "plt.xlabel(\"Epochs\")\n",
        "plt.title(\"Model Loss\")\n",
        "plt.plot(history.history['loss'])\n",
        "plt.plot(history.history['val_loss'])\n",
        "plt.legend(['Train', 'Validation'], loc='upper right')"
      ],
      "execution_count": null,
      "outputs": [
        {
          "output_type": "execute_result",
          "data": {
            "text/plain": [
              "<matplotlib.legend.Legend at 0x7f3de64e8d10>"
            ]
          },
          "metadata": {},
          "execution_count": 31
        },
        {
          "output_type": "display_data",
          "data": {
            "image/png": "[encoded data removed]",
            "text/plain": [
              "<Figure size 432x288 with 1 Axes>"
            ]
          },
          "metadata": {}
        }
      ]
    },
    {
      "cell_type": "code",
      "metadata": {
        "id": "qZoe2XsxHPZE",
        "colab": {
          "base_uri": "https://localhost:8080/",
          "height": 318
        },
        "outputId": "feb757bf-51b3-44a9-86c7-9a00a3dcbe5a"
      },
      "source": [
        "plt.xticks(np.arange(0, 30, 1))\n",
        "plt.yticks(np.arange(0.9, 1, 0.01))\n",
        "plt.xlabel(\"Epochs\")\n",
        "plt.title(\"Model Accuraccy\")\n",
        "plt.plot(history.history['accuracy'])\n",
        "plt.plot(history.history['val_accuracy'])\n",
        "plt.legend(['Train', 'Validation'], loc='lower right')"
      ],
      "execution_count": null,
      "outputs": [
        {
          "output_type": "execute_result",
          "data": {
            "text/plain": [
              "<matplotlib.legend.Legend at 0x7f3de64b0350>"
            ]
          },
          "metadata": {},
          "execution_count": 32
        },
        {
          "output_type": "display_data",
          "data": {
            "image/png": "[encoded data removed]",
            "text/plain": [
              "<Figure size 432x288 with 1 Axes>"
            ]
          },
          "metadata": {}
        }
      ]
    },
    {
      "cell_type": "code",
      "metadata": {
        "id": "mR1mU8G1QnTo"
      },
      "source": [
        "model.save(\"MNIST_1.h5\")"
      ],
      "execution_count": null,
      "outputs": []
    }
  ]
}