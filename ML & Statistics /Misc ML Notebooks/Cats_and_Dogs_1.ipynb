{
  "nbformat": 4,
  "nbformat_minor": 0,
  "metadata": {
    "colab": {
      "name": "Cats vs Dogs - 1.ipynb",
      "provenance": []
    },
    "kernelspec": {
      "name": "python3",
      "display_name": "Python 3"
    },
    "language_info": {
      "name": "python"
    },
    "accelerator": "GPU"
  },
  "cells": [
    {
      "cell_type": "code",
      "metadata": {
        "id": "YRV24SicnnqO"
      },
      "source": [
        "from sklearn.model_selection import train_test_split\n",
        "from sklearn.utils import shuffle\n",
        "import matplotlib.pyplot as plt\n",
        "from tensorflow import keras\n",
        "import seaborn as sns\n",
        "import numpy as np\n",
        "import cv2\n",
        "import os\n",
        "# import required libraries"
      ],
      "execution_count": 25,
      "outputs": []
    },
    {
      "cell_type": "code",
      "metadata": {
        "id": "-X6GCjNlpiTO"
      },
      "source": [
        "def load_images(superpath: str) -> tuple:\n",
        "  imgs, labels, folders, label = [], [], [], 0\n",
        "  for folder in os.listdir(superpath):\n",
        "    if os.path.isdir(os.path.join(superpath, folder)):\n",
        "      for image in os.listdir(os.path.join(superpath, folder)):\n",
        "        try:\n",
        "          img = cv2.imread(os.path.join(superpath, folder, image), 0)\n",
        "          if img is not None: # is the image corrupt?\n",
        "            img = cv2.resize(img, (80, 60)) # resize images to 80 x 80\n",
        "            labels.append(label)\n",
        "            imgs.append(img)\n",
        "        except Exception as e:\n",
        "          print(f\"Error: {e}. Skipping file...\")\n",
        "      folders.append(folder)\n",
        "      label += 1\n",
        "  print(f\"Folders were labeled from 0 to {label-1} in the following order: {folders}\")\n",
        "  return np.array(imgs), np.array(labels)"
      ],
      "execution_count": 2,
      "outputs": []
    },
    {
      "cell_type": "code",
      "metadata": {
        "id": "UfqKSvVNnpFv"
      },
      "source": [
        "def process_images(x_train: np.ndarray, y_train: np.ndarray) -> tuple:\n",
        "  x_train, x_test, y_train, y_test = train_test_split(x_train, y_train, test_size=0.1)\n",
        "  x_test, x_val, y_test, y_val = train_test_split(x_test, y_test, test_size=0.25) # split to validation set\n",
        "  x_train = x_train.reshape(x_train.shape[0], x_train.shape[1], x_train.shape[2], 1) / 255.0\n",
        "  x_test = x_test.reshape(x_test.shape[0], x_test.shape[1], x_test.shape[2], 1) / 255.0 # divide everything by 255\n",
        "  x_val = x_val.reshape(x_val.shape[0], x_val.shape[1], x_val.shape[2], 1) / 255.0\n",
        "  y_train, y_test, y_val = keras.utils.to_categorical(y_train), keras.utils.to_categorical(y_test), keras.utils.to_categorical(y_val)\n",
        "  # convert labels to binary matrix\n",
        "  return x_train, x_test, x_val, y_train, y_test, y_val"
      ],
      "execution_count": 3,
      "outputs": []
    },
    {
      "cell_type": "code",
      "metadata": {
        "colab": {
          "base_uri": "https://localhost:8080/"
        },
        "id": "ydPiCpMqwveE",
        "outputId": "b7e0552f-e336-4e8c-976c-1a221491b257"
      },
      "source": [
        "x_train, y_train = load_images(f'{os.environ[\"HOME\"]}/Desktop/Dev/datasets/catsvsdogs') # my home path has a long name, so I prefer to use home env variable\n",
        "x_train, x_test, x_val, y_train, y_test, y_val = process_images(x_train, y_train)"
      ],
      "execution_count": 4,
      "outputs": [
        {
          "output_type": "stream",
          "text": [
            "Corrupt JPEG data: 214 extraneous bytes before marker 0xd9\n",
            "Corrupt JPEG data: 1153 extraneous bytes before marker 0xd9\n",
            "Corrupt JPEG data: 99 extraneous bytes before marker 0xd9\n",
            "Corrupt JPEG data: 128 extraneous bytes before marker 0xd9\n",
            "Corrupt JPEG data: 239 extraneous bytes before marker 0xd9\n",
            "Corrupt JPEG data: 65 extraneous bytes before marker 0xd9\n",
            "Corrupt JPEG data: 226 extraneous bytes before marker 0xd9\n",
            "Corrupt JPEG data: 162 extraneous bytes before marker 0xd9\n",
            "Warning: unknown JFIF revision number 0.00\n",
            "Corrupt JPEG data: 2230 extraneous bytes before marker 0xd9\n",
            "Corrupt JPEG data: 254 extraneous bytes before marker 0xd9\n",
            "Corrupt JPEG data: 399 extraneous bytes before marker 0xd9\n",
            "Corrupt JPEG data: 1403 extraneous bytes before marker 0xd9\n"
          ],
          "name": "stderr"
        },
        {
          "output_type": "stream",
          "text": [
            "Folders were labeled from 0 to 1 in the following order: ['Cat', 'Dog']\n"
          ],
          "name": "stdout"
        }
      ]
    },
    {
      "cell_type": "code",
      "metadata": {
        "colab": {
          "base_uri": "https://localhost:8080/"
        },
        "id": "2P-9z4792AF8",
        "outputId": "09bdd881-3947-4a0e-f59e-3c0a5d0aae16"
      },
      "source": [
        "print(x_train.shape, x_test.shape, x_val.shape)\n",
        "print(y_train.shape, y_test.shape, y_val.shape)"
      ],
      "execution_count": 5,
      "outputs": [
        {
          "output_type": "stream",
          "text": [
            "(22451, 80, 80, 1) (1871, 80, 80, 1) (624, 80, 80, 1)\n",
            "(22451, 2) (1871, 2) (624, 2)\n"
          ],
          "name": "stdout"
        }
      ]
    },
    {
      "cell_type": "code",
      "metadata": {
        "id": "d-6xzL-ex8N-"
      },
      "source": [
        "model = keras.Sequential([\n",
        "                          keras.layers.InputLayer(input_shape=(80, 80, 1)),\n",
        "\n",
        "                          keras.layers.Conv2D(32, (5,5), padding='same', kernel_initializer='he_uniform'),\n",
        "                          keras.layers.MaxPool2D((2,2)),\n",
        "                          keras.layers.BatchNormalization(),\n",
        "                          keras.layers.Activation('relu'),\n",
        "                          keras.layers.Dropout(0.2),         \n",
        "\n",
        "                          keras.layers.Conv2D(64, (5,5), padding='same', kernel_initializer='he_uniform'),\n",
        "                          keras.layers.MaxPool2D((2,2)),\n",
        "                          keras.layers.BatchNormalization(),\n",
        "                          keras.layers.Activation('relu'),\n",
        "                          keras.layers.Dropout(0.2),     \n",
        "\n",
        "                          keras.layers.Flatten(), \n",
        "\n",
        "                          keras.layers.Dense(128, kernel_initializer='he_uniform'),\n",
        "                          keras.layers.BatchNormalization(),\n",
        "                          keras.layers.Activation('relu'),\n",
        "                          keras.layers.Dropout(0.2),\n",
        "\n",
        "                          keras.layers.Dense(2),\n",
        "                          keras.layers.Activation('softmax')\n",
        "\n",
        "])"
      ],
      "execution_count": 77,
      "outputs": []
    },
    {
      "cell_type": "code",
      "metadata": {
        "colab": {
          "base_uri": "https://localhost:8080/"
        },
        "id": "R37A79-_78kM",
        "outputId": "97c5bca4-5ca8-49e0-8df1-077ee68c8282"
      },
      "source": [
        "model.summary()"
      ],
      "execution_count": 78,
      "outputs": [
        {
          "output_type": "stream",
          "text": [
            "Model: \"sequential_15\"\n",
            "_________________________________________________________________\n",
            "Layer (type)                 Output Shape              Param #   \n",
            "=================================================================\n",
            "conv2d_35 (Conv2D)           (None, 80, 80, 32)        832       \n",
            "_________________________________________________________________\n",
            "max_pooling2d_32 (MaxPooling (None, 40, 40, 32)        0         \n",
            "_________________________________________________________________\n",
            "batch_normalization_55 (Batc (None, 40, 40, 32)        128       \n",
            "_________________________________________________________________\n",
            "activation_63 (Activation)   (None, 40, 40, 32)        0         \n",
            "_________________________________________________________________\n",
            "dropout_48 (Dropout)         (None, 40, 40, 32)        0         \n",
            "_________________________________________________________________\n",
            "conv2d_36 (Conv2D)           (None, 40, 40, 64)        51264     \n",
            "_________________________________________________________________\n",
            "max_pooling2d_33 (MaxPooling (None, 20, 20, 64)        0         \n",
            "_________________________________________________________________\n",
            "batch_normalization_56 (Batc (None, 20, 20, 64)        256       \n",
            "_________________________________________________________________\n",
            "activation_64 (Activation)   (None, 20, 20, 64)        0         \n",
            "_________________________________________________________________\n",
            "dropout_49 (Dropout)         (None, 20, 20, 64)        0         \n",
            "_________________________________________________________________\n",
            "flatten_14 (Flatten)         (None, 25600)             0         \n",
            "_________________________________________________________________\n",
            "dense_30 (Dense)             (None, 128)               3276928   \n",
            "_________________________________________________________________\n",
            "batch_normalization_57 (Batc (None, 128)               512       \n",
            "_________________________________________________________________\n",
            "activation_65 (Activation)   (None, 128)               0         \n",
            "_________________________________________________________________\n",
            "dropout_50 (Dropout)         (None, 128)               0         \n",
            "_________________________________________________________________\n",
            "dense_31 (Dense)             (None, 2)                 258       \n",
            "_________________________________________________________________\n",
            "activation_66 (Activation)   (None, 2)                 0         \n",
            "=================================================================\n",
            "Total params: 3,330,178\n",
            "Trainable params: 3,329,730\n",
            "Non-trainable params: 448\n",
            "_________________________________________________________________\n"
          ],
          "name": "stdout"
        }
      ]
    },
    {
      "cell_type": "code",
      "metadata": {
        "id": "vI0H7gl58pFi"
      },
      "source": [
        "model.compile(optimizer='Adam', loss='categorical_crossentropy', metrics=['accuracy'])"
      ],
      "execution_count": 79,
      "outputs": []
    },
    {
      "cell_type": "code",
      "metadata": {
        "id": "fPcmDMqmgsM7"
      },
      "source": [
        "lr_modifier = keras.callbacks.ReduceLROnPlateau(monitor='val_loss', patience=1, factor=0.1)"
      ],
      "execution_count": 80,
      "outputs": []
    },
    {
      "cell_type": "code",
      "metadata": {
        "colab": {
          "base_uri": "https://localhost:8080/"
        },
        "id": "dUlZU13A8uPk",
        "outputId": "54c633e7-8c6b-4ff1-b9f7-2de473b439df"
      },
      "source": [
        "data = model.fit(x_train, y_train, epochs=5, batch_size=64, validation_data=(x_val, y_val), callbacks=[lr_modifier])"
      ],
      "execution_count": 81,
      "outputs": [
        {
          "output_type": "stream",
          "text": [
            "Epoch 1/5\n",
            "351/351 [==============================] - 142s 402ms/step - loss: 0.5905 - accuracy: 0.6977 - val_loss: 0.6871 - val_accuracy: 0.6266\n",
            "Epoch 2/5\n",
            "351/351 [==============================] - 168s 478ms/step - loss: 0.4494 - accuracy: 0.7899 - val_loss: 0.4504 - val_accuracy: 0.7788\n",
            "Epoch 3/5\n",
            "351/351 [==============================] - 216s 615ms/step - loss: 0.3768 - accuracy: 0.8312 - val_loss: 0.4524 - val_accuracy: 0.8077\n",
            "Epoch 4/5\n",
            "351/351 [==============================] - 208s 593ms/step - loss: 0.2758 - accuracy: 0.8878 - val_loss: 0.4190 - val_accuracy: 0.8141\n",
            "Epoch 5/5\n",
            "351/351 [==============================] - 228s 650ms/step - loss: 0.2486 - accuracy: 0.9010 - val_loss: 0.4231 - val_accuracy: 0.8109\n"
          ],
          "name": "stdout"
        }
      ]
    },
    {
      "cell_type": "code",
      "metadata": {
        "colab": {
          "base_uri": "https://localhost:8080/"
        },
        "id": "MVhAIOTaLlhJ",
        "outputId": "23deaf13-363f-45b9-b880-9e2b6631d1a8"
      },
      "source": [
        "model.evaluate(x_test, y_test)"
      ],
      "execution_count": 82,
      "outputs": [
        {
          "output_type": "stream",
          "text": [
            "59/59 [==============================] - 3s 50ms/step - loss: 0.4145 - accuracy: 0.8156\n"
          ],
          "name": "stdout"
        },
        {
          "output_type": "execute_result",
          "data": {
            "text/plain": [
              "[0.4144960939884186, 0.8156066536903381]"
            ]
          },
          "metadata": {},
          "execution_count": 82
        }
      ]
    },
    {
      "cell_type": "code",
      "metadata": {
        "colab": {
          "base_uri": "https://localhost:8080/",
          "height": 313
        },
        "id": "paC_0gA3VqP1",
        "outputId": "a981f4bd-5fdc-4d76-dffd-8eb2288c5e57"
      },
      "source": [
        "sns.set()\n",
        "plt.yticks(np.arange(0, 2, 0.1))\n",
        "plt.xticks(np.arange(0, 5, 1))\n",
        "plt.xlabel(\"Epochs\")\n",
        "plt.title(\"Model Loss\")\n",
        "plt.plot(data.history['loss'])\n",
        "plt.plot(data.history['val_loss'])\n",
        "plt.legend(['Train', 'Validation'], loc='upper right')"
      ],
      "execution_count": 83,
      "outputs": [
        {
          "output_type": "execute_result",
          "data": {
            "text/plain": [
              "<matplotlib.legend.Legend at 0x17a134fa0>"
            ]
          },
          "metadata": {},
          "execution_count": 83
        },
        {
          "output_type": "display_data",
          "data": {
            "text/plain": [
              "<Figure size 432x288 with 1 Axes>"
            ],
            "image/png": "[encoded data removed]"
          },
          "metadata": {}
        }
      ]
    },
    {
      "cell_type": "code",
      "metadata": {
        "colab": {
          "base_uri": "https://localhost:8080/",
          "height": 313
        },
        "id": "126udSFXV4O4",
        "outputId": "a4d0b178-4e78-4df3-c631-9c4a39ab207b"
      },
      "source": [
        "plt.xticks(np.arange(0, 5, 1))\n",
        "plt.yticks(np.arange(0.3, 1, 0.05))\n",
        "plt.xlabel(\"Epochs\")\n",
        "plt.title(\"Model Accuraccy\")\n",
        "plt.plot(data.history['accuracy'])\n",
        "plt.plot(data.history['val_accuracy'])\n",
        "plt.legend(['Train', 'Validation'], loc='lower right')"
      ],
      "execution_count": 84,
      "outputs": [
        {
          "output_type": "execute_result",
          "data": {
            "text/plain": [
              "<matplotlib.legend.Legend at 0x17a16dfa0>"
            ]
          },
          "metadata": {},
          "execution_count": 84
        },
        {
          "output_type": "display_data",
          "data": {
            "text/plain": [
              "<Figure size 432x288 with 1 Axes>"
            ],
            "image/png": "[encoded data removed]"
          },
          "metadata": {}
        }
      ]
    },
    {
      "cell_type": "code",
      "metadata": {
        "id": "lMpuWI9mLEpi"
      },
      "source": [
        "model.save(\"cats_and_dogs_1.h5\")"
      ],
      "execution_count": 86,
      "outputs": []
    }
  ]
}